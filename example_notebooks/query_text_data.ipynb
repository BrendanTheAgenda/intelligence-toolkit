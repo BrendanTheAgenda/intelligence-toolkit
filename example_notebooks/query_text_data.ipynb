{
    "cells": [
        {
            "cell_type": "markdown",
            "metadata": {},
            "source": [
                "# Query Text Data workflow with \"Lazy GraphRAG\" retrieval mechanism\n",
                "\n",
                "Concept:\n",
                "\n",
                "Vector-based semantic search is a \"best first\" search approach for relevant chunks - it simply takes the top k most similar chunks based on embedding distances. It has no sense of the breadth of semantic content in the dataset.\n",
                "Full [GraphRAG](https://aka.ms/graphrag) is a \"breadth first\" search approach for relevant content in community summaries - it always queries each community. It has no sense of which communities are best.\n",
                "ming rapid relevance tests on these summaries in rank order to confirm that only the best community summaries from across the breadth of the dataset are used for answer generation.\n",
                "\n",
                "Lazy GraphRAG requires no summarization-based index (which is expensive, especially if the user only has a few queries). Instead, it relies purely on an embedding-based index for input text chunks (cheap, fast) augmented by the concept graph of noun-phrase cooccurrences extracted from these chunks (free, fast). It works as follows:\n",
                "\n",
                "- Given a query, text chunks are ranked using vector-based semantic search.\n",
                "- Chunk rankings are used to determine community rankings in the concept graph.\n",
                "- In community rank order, the top k chunks are subject to a rapid relevant test (cheap, fast). If relevant chunks are found, the community is retained, otherwise it is discarded.\n",
                "- After n communities fail to return any relevant chunks, the \"iterative narrowing\" process repeats with remaining communities in rank order.\n",
                "- The process terminates when no more testable chunks exist or a predefined testing budget is reached (e.g., 100 relevance tests).\n",
                "\n",
                "The advantages of this approach include:\n",
                "\n",
                "- A balance of best-first (semantic search) and breadth-first (community structure) approaches for any testing budget\n",
                "- Very fast and almost free - suitable for one-off and exploratory queries before committing to a full indexing\n",
                "- Easily accommodates dynamic contexts where new texts/chunks are streaming in to the dataset (supported in the current implementation)\n",
                "- Provides a consistent level of \"effort\" for a fixed test budget, providing various standards of answers to questions (e.g., global questions) for which there is no ground truth (e.g., 1000 chunks = gold standard, 500 chunks = silver standard, 100 chunks = bronze standard, etc.)\n"
            ]
        },
        {
            "cell_type": "code",
            "execution_count": 1,
            "metadata": {},
            "outputs": [],
            "source": [
                "import sys\n",
                "\n",
                "sys.path.append(\"..\")"
            ]
        },
        {
            "cell_type": "code",
            "execution_count": 8,
            "metadata": {},
            "outputs": [],
            "source": [
                "import os\n",
                "import asyncio\n",
                "import io\n",
                "import pandas as pd\n",
                "from toolkit.AI.openai_configuration import OpenAIConfiguration\n",
                "from toolkit.AI.openai_embedder import OpenAIEmbedder\n",
                "from toolkit.helpers.constants import CACHE_PATH\n",
                "\n",
                "import toolkit.query_text_data.input_processor as input_processor\n",
                "import toolkit.query_text_data.relevance_assessor as relevance_assessor\n",
                "import toolkit.query_text_data.answer_builder as answer_builder\n",
                "import toolkit.query_text_data.graph_builder as graph_builder\n",
                "import toolkit.query_text_data.pattern_detector as pattern_detector\n",
                "import toolkit.graph.graph_fusion_encoder_embedding as gfee\n",
                "import toolkit.query_text_data.helper_functions as helper_functions\n",
                "import nest_asyncio # Necessary to run async code in ipynb\n",
                "\n",
                "nest_asyncio.apply()"
            ]
        },
        {
            "cell_type": "code",
            "execution_count": 3,
            "metadata": {},
            "outputs": [
                {
                    "name": "stderr",
                    "output_type": "stream",
                    "text": [
                        "[nltk_data] Downloading package brown to\n",
                        "[nltk_data]     C:\\Users\\daedge\\AppData\\Roaming\\nltk_data...\n",
                        "[nltk_data]   Package brown is already up-to-date!\n",
                        "[nltk_data] Downloading package punkt to\n",
                        "[nltk_data]     C:\\Users\\daedge\\AppData\\Roaming\\nltk_data...\n",
                        "[nltk_data]   Package punkt is already up-to-date!\n",
                        "[nltk_data] Downloading package punkt_tab to\n",
                        "[nltk_data]     C:\\Users\\daedge\\AppData\\Roaming\\nltk_data...\n",
                        "[nltk_data]   Package punkt_tab is already up-to-date!\n"
                    ]
                },
                {
                    "data": {
                        "text/plain": [
                            "<module 'toolkit.query_text_data.graph_builder' from 'c:\\\\Users\\\\daedge\\\\Code\\\\ITK\\\\intelligence-toolkit\\\\example_notebooks\\\\..\\\\toolkit\\\\query_text_data\\\\graph_builder.py'>"
                        ]
                    },
                    "execution_count": 3,
                    "metadata": {},
                    "output_type": "execute_result"
                }
            ],
            "source": [
                "# Comment/uncomment the following lines to toggle access to library code updates\n",
                "import importlib\n",
                "importlib.reload(input_processor)\n",
                "importlib.reload(pattern_detector)\n",
                "importlib.reload(helper_functions)\n",
                "importlib.reload(relevance_assessor)\n",
                "importlib.reload(answer_builder)\n",
                "importlib.reload(graph_builder)"
            ]
        },
        {
            "cell_type": "code",
            "execution_count": 4,
            "metadata": {},
            "outputs": [],
            "source": [
                "# Set up the AI model and embedding model\n",
                "ai_configuration = OpenAIConfiguration(\n",
                "    {\n",
                "        \"api_type\": \"OpenAI\",\n",
                "        \"api_key\": os.environ[\"OPENAI_API_KEY\"],\n",
                "        \"model\": \"gpt-4o-2024-08-06\",\n",
                "    }\n",
                ")\n",
                "\n",
                "text_embedder = OpenAIEmbedder(\n",
                "    configuration=ai_configuration,\n",
                ")"
            ]
        },
        {
            "cell_type": "code",
            "execution_count": 22,
            "metadata": {},
            "outputs": [
                {
                    "ename": "TypeError",
                    "evalue": "unhashable type: 'slice'",
                    "output_type": "error",
                    "traceback": [
                        "\u001b[1;31m---------------------------------------------------------------------------\u001b[0m",
                        "\u001b[1;31mTypeError\u001b[0m                                 Traceback (most recent call last)",
                        "Cell \u001b[1;32mIn[22], line 5\u001b[0m\n\u001b[0;32m      3\u001b[0m file_name \u001b[38;5;241m=\u001b[39m input_path\u001b[38;5;241m.\u001b[39msplit(\u001b[38;5;124m\"\u001b[39m\u001b[38;5;124m/\u001b[39m\u001b[38;5;124m\"\u001b[39m)[\u001b[38;5;241m-\u001b[39m\u001b[38;5;241m1\u001b[39m]\n\u001b[0;32m      4\u001b[0m file_to_chunks \u001b[38;5;241m=\u001b[39m input_processor\u001b[38;5;241m.\u001b[39mprocess_file_bytes({file_name: \u001b[38;5;28mopen\u001b[39m(input_path, \u001b[38;5;124m'\u001b[39m\u001b[38;5;124mrb\u001b[39m\u001b[38;5;124m'\u001b[39m)\u001b[38;5;241m.\u001b[39mread()}, input_processor\u001b[38;5;241m.\u001b[39mPeriodOption\u001b[38;5;241m.\u001b[39mNONE)\n\u001b[1;32m----> 5\u001b[0m \u001b[43mfile_to_chunks\u001b[49m\u001b[43m[\u001b[49m\u001b[43m:\u001b[49m\u001b[38;5;241;43m3\u001b[39;49m\u001b[43m]\u001b[49m\n",
                        "\u001b[1;31mTypeError\u001b[0m: unhashable type: 'slice'"
                    ]
                }
            ],
            "source": [
                "# Provide text inputs as rows of a dataframe\n",
                "input_path = \"../example_outputs/query_text_data/news_articles/news_articles_texts.csv\"\n",
                "file_name = input_path.split(\"/\")[-1]\n",
                "file_to_chunks = input_processor.process_file_bytes({file_name: open(input_path, 'rb').read()}, input_processor.PeriodOption.NONE)\n",
                "print(\"Chunked input text\")"
            ]
        },
        {
            "cell_type": "code",
            "execution_count": 16,
            "metadata": {},
            "outputs": [
                {
                    "name": "stdout",
                    "output_type": "stream",
                    "text": [
                        "Processed chunks\n"
                    ]
                }
            ],
            "source": [
                "max_cluster_size = 25 # The maximum number of concepts in a leaf-level community in the concept graph\n",
                "# Process the chunks into the index data structures\n",
                "(\n",
                "    cid_to_text,\n",
                "    text_to_cid,\n",
                "    period_concept_graphs,\n",
                "    community_to_concepts,\n",
                "    concept_to_community,\n",
                "    concept_to_cids,\n",
                "    cid_to_concepts,\n",
                "    previous_cid,\n",
                "    next_cid,\n",
                "    period_to_cids,\n",
                "    node_period_counts,\n",
                "    edge_period_counts,\n",
                "    hierarchical_communities\n",
                ") = input_processor.process_chunks(file_to_chunks=file_to_chunks, max_cluster_size=max_cluster_size)\n",
                "print(f\"Processed chunks\")"
            ]
        },
        {
            "cell_type": "code",
            "execution_count": 17,
            "metadata": {},
            "outputs": [
                {
                    "name": "stderr",
                    "output_type": "stream",
                    "text": [
                        "100%|██████████| 501/501 [00:07<00:00, 68.29it/s] \n"
                    ]
                },
                {
                    "name": "stdout",
                    "output_type": "stream",
                    "text": [
                        "Got 0 existing texts\n",
                        "Got 501 new texts\n",
                        "Embedded chunk text\n"
                    ]
                }
            ],
            "source": [
                "# Embed the text chunks\n",
                "cid_to_vector = await helper_functions.embed_texts(\n",
                "    cid_to_text=cid_to_text,\n",
                "    text_embedder=text_embedder,\n",
                ")\n",
                "print(f\"Embedded chunk text\")"
            ]
        },
        {
            "cell_type": "code",
            "execution_count": 18,
            "metadata": {},
            "outputs": [
                {
                    "name": "stdout",
                    "output_type": "stream",
                    "text": [
                        "New loop after 0 tests\n",
                        "Assessing relevance for topic 92 with 5 chunks\n"
                    ]
                },
                {
                    "name": "stderr",
                    "output_type": "stream",
                    "text": [
                        "100%|██████████| 5/5 [00:00<00:00,  5.74it/s]\n"
                    ]
                },
                {
                    "name": "stdout",
                    "output_type": "stream",
                    "text": [
                        "Batch 1 of 1: 5 relevant chunks\n",
                        "Community 92: True\n",
                        "Assessing relevance for topic 68 with 5 chunks\n"
                    ]
                },
                {
                    "name": "stderr",
                    "output_type": "stream",
                    "text": [
                        "100%|██████████| 5/5 [00:01<00:00,  4.57it/s]\n"
                    ]
                },
                {
                    "name": "stdout",
                    "output_type": "stream",
                    "text": [
                        "Batch 1 of 1: 5 relevant chunks\n",
                        "Community 68: True\n",
                        "Assessing relevance for topic 93 with 5 chunks\n"
                    ]
                },
                {
                    "name": "stderr",
                    "output_type": "stream",
                    "text": [
                        "0it [00:00, ?it/s]\n"
                    ]
                },
                {
                    "name": "stdout",
                    "output_type": "stream",
                    "text": [
                        "Batch 1 of 1: 0 relevant chunks\n",
                        "Community 93: False\n",
                        "Assessing relevance for topic 94 with 5 chunks\n"
                    ]
                },
                {
                    "name": "stderr",
                    "output_type": "stream",
                    "text": [
                        "0it [00:00, ?it/s]\n"
                    ]
                },
                {
                    "name": "stdout",
                    "output_type": "stream",
                    "text": [
                        "Batch 1 of 1: 0 relevant chunks\n",
                        "Community 94: False\n",
                        "Assessing relevance for topic 158 with 5 chunks\n"
                    ]
                },
                {
                    "name": "stderr",
                    "output_type": "stream",
                    "text": [
                        "0it [00:00, ?it/s]"
                    ]
                },
                {
                    "name": "stdout",
                    "output_type": "stream",
                    "text": [
                        "Batch 1 of 1: 0 relevant chunks\n",
                        "Community 158: False\n",
                        "0 successive irrelevant communities; breaking\n",
                        "Assessing relevance for neighbours with 0 chunks\n",
                        "[('topic 68', 96, 'Yes'), ('topic 68', 324, 'Yes'), ('topic 68', 144, 'Yes')]\n",
                        "**Chunks relevant/tested: 10/10** (topic 92: 5/5; topic 68: 5/5)\n",
                        "Mined relevant chunks\n"
                    ]
                },
                {
                    "name": "stderr",
                    "output_type": "stream",
                    "text": [
                        "\n"
                    ]
                }
            ],
            "source": [
                "question = \"What events are discussed?\"\n",
                "relevance_test_budget = 50 # How many relevance tests are permitted per query. Higher values may provide higher quality results at higher cost\n",
                "adjacent_search_steps = 1 # How many chunks before and after each relevant chunk to test, once the relevance test budget is near or the search process has terminted\n",
                "community_relevance_tests = 5 # How many relevance tests to run on each community in turn\n",
                "relevance_test_batch_size = 5 # How many relevance tests to run in parallel at a time\n",
                "irrelevant_community_restart = 3 # When to restart testing communities in relevance order\n",
                "\n",
                "# Mine relevant chunks to the question\n",
                "async def mine_relevant_chunks():\n",
                "    (\n",
                "        relevant_cids,\n",
                "        chunk_progress,\n",
                "    ) = await relevance_assessor.detect_relevant_chunks(\n",
                "        ai_configuration=ai_configuration,\n",
                "        question=question,\n",
                "        cid_to_text=cid_to_text,\n",
                "        cid_to_concepts=cid_to_concepts,\n",
                "        cid_to_vector=cid_to_vector,\n",
                "        community_to_concepts=community_to_concepts,\n",
                "        concept_to_community=concept_to_community,\n",
                "        previous_cid=previous_cid,\n",
                "        next_cid=next_cid,\n",
                "        embedder=text_embedder,\n",
                "        embedding_cache=CACHE_PATH,\n",
                "        select_logit_bias=5,\n",
                "        adjacent_search_steps=adjacent_search_steps,\n",
                "        relevance_test_budget=relevance_test_budget,\n",
                "        community_relevance_tests=community_relevance_tests,\n",
                "        relevance_test_batch_size=relevance_test_batch_size,\n",
                "        irrelevant_community_restart=irrelevant_community_restart,\n",
                "    )\n",
                "    return relevant_cids, chunk_progress\n",
                "\n",
                "if __name__ == \"__main__\":\n",
                "    relevant_cids, chunk_progress = await mine_relevant_chunks()\n",
                "    print(f\"Mined relevant chunks\")\n",
                "    \n"
            ]
        },
        {
            "cell_type": "code",
            "execution_count": 19,
            "metadata": {},
            "outputs": [
                {
                    "name": "stdout",
                    "output_type": "stream",
                    "text": [
                        "[{'role': 'system', 'content': 'You are a helpful assistant tasked with creating a JSON object that answers a given user question.\\n\\nThe output object should update the input JSON object in a way that:\\n\\n- answers the user question as directly and comprehensively as possible using relevant information from the text chunks\\n- represents a single coherent narrative, rather than a collection of unrelated facts. Input texts that are clearly unrelated should be ignored\\n- incudes a title and structured headings as appropriate\\n- includes prose between all headings to explain the context and significance of the information presented\\n- includes bridging text that makes connections between topic areas, explaining how they relate to each other\\n- supports each sentence with a source reference to the file and text chunk: \"[source: <file> (<chunk_id>), <file> (<chunk_id>)]. Always use the full name of the file - do not abbreviate - and enter the full filename before each chunk id, even if the same file contains multiple relevant chunks.\"\\n\\n--FORMAT--\\n\\nThe JSON object should be structured as follows:\\n\\n{\\n    \"question\": \"<user question, which must not be modified>\",\\n    \"title\": \"<title of report that answers question, which may be updated based on new and updated content items>\",\\n    \"introduction\": \"<introduction to the report, including a bulleted list of content item titles divided into thematic groups (not just the new or updated ones)>\",\\n    \"content_id_sequence\": [\"<sequence of content item ids matching their list order in the introduction>\"],\\n    \"content_items\":\\n    {\\n        \"<content item id>\":\\n        {\\n            \"title\": \"<title>\",\\n            \"content\": \"<content, including any commentary on the relevant concepts if provided in the analysis field>\"\\n        },\\n        ...\\n    }\\n    \"conclusion\": \"<conclusion to the report, summarizing all major claims and their implications>\"\\n}\\n\\nThe content_sequence field should be a list of content item ids that represents the order in which the content items should be presented in the final report.\\n\\nItems may be added by creating a new id and removed by not including the corresponding id in the content_sequence.\\n\\nThe content items field should include any new or updated content, but does not need to duplicate content from the input JSON object.\\n\\nThe introduction and conclusion fields must be updated to reflect the new and updated content items.\\n\\nContent items may be reordered, merged, or split as needed to create a coherent narrative.\\n\\nALL new text chunks MUST be included and referenced in the final report PROVIDED they are relevant to the question.\\n\\nWhen generating the text of content items, do not mix factual content and commentary in the same sentence. Instead, separate factual content from commentary with a new sentence.\\n\\n--TASK--\\n\\nInput JSON object:\\n\\n{\\'question\\': \\'What events are discussed?\\', \\'title\\': \\'\\', \\'introduction\\': \\'\\', \\'content_id_sequence\\': [], \\'content_items\\': [], \\'conclusion\\': \\'\\'}\\n\\nNew text chunks:\\n\\n[\\'{\\\\n  \"title\": \"news_articles_texts.csv_179\",\\\\n  \"text_chunk\": \"mock_text: **Global Economic Forum Discusses Future Trends in Financial District**\\\\\\\\n\\\\\\\\n*March 21, 2024*\\\\\\\\n\\\\\\\\nIn a significant gathering of minds, the Global Economic Forum convened today in the bustling Financial District. The event, which took place under the auspices of the Global Economic Forum, attracted numerous economists and global leaders to engage in discussions about the future of economic trends and the challenges that lie ahead.\\\\\\\\n\\\\\\\\nAmong the distinguished speakers was Economist Linda Zhao, who delivered a compelling analysis on the shifting dynamics of global markets. Zhao emphasized the importance of adapting to rapid technological advancements and the need for sustainable economic policies.\\\\\\\\n\\\\\\\\nThe forum served as a platform for exchanging ideas on how to navigate the complexities of an interconnected global economy. Topics ranged from the impacts of climate change on economic stability to the influence of digital currencies on traditional banking systems.\\\\\\\\n\\\\\\\\nParticipants expressed a shared commitment to fostering economic growth while addressing pressing issues such as income inequality and environmental sustainability. As the world grapples with these challenges, the insights gained from the discussions at the Global Economic Forum are expected to guide policymakers and business leaders in the coming years.\\\\\\\\n\\\\\\\\nThe event underscored the critical role of collaboration in tackling global economic challenges and highlighted the Financial District as a key hub for such high-profile international dialogues. With the conclusions drawn from today\\\\\\'s meeting, the Global Economic Forum continues to be at the forefront of shaping economic policy worldwide.\",\\\\n  \"chunk_id\": 1\\\\n}\\', \\'{\\\\n  \"title\": \"news_articles_texts.csv_105\",\\\\n  \"text_chunk\": \"mock_text: **Global Economic Forum: Key Takeaways**\\\\\\\\n\\\\\\\\n*July 25, 2021 - New York*\\\\\\\\n\\\\\\\\nThe bustling metropolis of New York was the epicenter of economic discourse this past week as it played host to the prestigious Global Economic Forum. The event, which attracts top economists and policymakers from around the world, concluded with insightful discussions and pivotal takeaways that are expected to shape the future of the global economy.\\\\\\\\n\\\\\\\\nEconomist Sarah Lin, a prominent figure in economic circles, was among the leading voices at the forum. Her analysis of the forum\\\\\\'s outcomes highlighted several key areas of concern and opportunity for the global economy. According to Lin, one of the most significant discussions revolved around the recovery strategies post-pandemic, as economies around the world grapple with the consequences of COVID-19.\\\\\\\\n\\\\\\\\n\\\\\\\\\"The pandemic has reshaped the global economic landscape, and it is imperative that we adopt strategies that not only react to the current crisis but also build resilience for future uncertainties,\\\\\\\\\" Lin stated during a session in New York. Her comments underscore the forum\\\\\\'s emphasis on sustainable growth and the need for international cooperation in economic policymaking.\\\\\\\\n\\\\\\\\nAnother major topic of discussion was the role of digital currencies and the potential for blockchain technology to revolutionize financial systems. Experts at the forum, including those from London, debated the implications of these technologies on traditional banking systems and the regulatory challenges they present.\\\\\\\\n\\\\\\\\nThe Global Economic Forum concluded with a call for increased collaboration among nations to address pressing global issues such as climate change, wealth inequality, and digital transformation. The gathering in New York served as a reminder of the interconnectedness of economies and the importance of joint efforts in crafting policies that benefit all.\\\\\\\\n\\\\\\\\nAs the forum wraps up, the insights shared by economists like Sarah Lin will undoubtedly influence discussions in economic hubs such as London and beyond. The outcomes of this forum are expected to play a crucial role in steering global economic policies in the coming years.\",\\\\n  \"chunk_id\": 1\\\\n}\\', \\'{\\\\n  \"title\": \"news_articles_texts.csv_97\",\\\\n  \"text_chunk\": \"mock_text: **World Economic Forum Discusses Global Markets in New York City**\\\\\\\\n\\\\\\\\n*New York City, April 3, 2023* \\\\\\\\u2014 In a significant gathering of economic minds, the World Economic Forum convened today in New York City to deliberate on the evolving landscape of global markets. The event drew an impressive array of economists and financial experts, including the renowned Dr. Alan Greene, who is widely respected for his insights into economic policy and market dynamics.\\\\\\\\n\\\\\\\\nWith global markets facing unprecedented challenges and opportunities, the discussions focused on strategies to foster sustainable growth and stability. Participants addressed pressing issues such as inflationary pressures, supply chain disruptions, and the shifting geopolitical climate that influences international trade.\\\\\\\\n\\\\\\\\nDr. Alan Greene, who has been a vocal advocate for innovative economic policies, emphasized the importance of collaboration among nations to navigate the complexities of the current economic environment. \\\\\\\\\"Our interconnected world requires us to work together to ensure the resilience of our markets,\\\\\\\\\" Dr. Greene stated during his address.\\\\\\\\n\\\\\\\\nThe forum also highlighted the role of emerging technologies in reshaping economic paradigms, with experts discussing the potential of digital currencies and the impact of artificial intelligence on labor markets.\\\\\\\\n\\\\\\\\nAs the summit progresses, attendees are expected to formulate actionable strategies that can be implemented globally to enhance economic resilience and prosperity. The outcomes of these discussions are anticipated to influence policy decisions and guide future economic initiatives worldwide.\\\\\\\\n\\\\\\\\nThis year\\\\\\'s meeting in New York City underscores the World Economic Forum\\\\\\'s commitment to fostering dialogue and cooperation among global leaders to address critical economic challenges and opportunities.\",\\\\n  \"chunk_id\": 1\\\\n}\\', \\'{\\\\n  \"title\": \"news_articles_texts.csv_145\",\\\\n  \"text_chunk\": \"mock_text: **Global Leaders Convene for Climate Summit in Beijing**\\\\\\\\n\\\\\\\\n*Beijing, April 1, 2023* \\\\\\\\u2014 In a significant gathering aimed at addressing one of the most pressing issues of our time, world leaders have convened in Beijing for a high-stakes climate summit organized by the United Nations. This pivotal event is focused on formulating new strategies to combat the escalating threat of climate change.\\\\\\\\n\\\\\\\\nAmong the key figures attending the summit is Prime Minister Liu Wei, who has been vocal about the urgent need for international cooperation in tackling environmental challenges. As the host nation, China has emphasized its commitment to playing a central role in the global effort to reduce carbon emissions and promote sustainable development.\\\\\\\\n\\\\\\\\nThe summit, which is scheduled to span several days, brings together heads of state, environmental experts, and representatives from various sectors to discuss innovative approaches to mitigate the impacts of climate change. The agenda includes sessions on renewable energy, carbon pricing, and the implementation of green technologies across industries.\\\\\\\\n\\\\\\\\nPrime Minister Liu Wei, in his opening remarks, highlighted the importance of collaborative action, stating, \\\\\\\\\"No country can tackle climate change in isolation. It is imperative that we unite our efforts and resources to secure a sustainable future for generations to come.\\\\\\\\\"\\\\\\\\n\\\\\\\\nThe United Nations has underscored the urgency of the summit, noting that recent scientific reports have pointed to an accelerated pace of climate change and its increasingly severe impacts on ecosystems and human societies. The outcomes of this summit are expected to influence international policy and set the stage for future climate negotiations.\\\\\\\\n\\\\\\\\nAs the summit progresses, the world watches with anticipation, hopeful for decisive actions and commitments that can steer global efforts towards a more sustainable and resilient future.\",\\\\n  \"chunk_id\": 1\\\\n}\\', \\'{\\\\n  \"title\": \"news_articles_texts.csv_214\",\\\\n  \"text_chunk\": \"mock_text: **Berlin Hosts Global Climate Action Forum: Leaders Unite for Environmental Change**\\\\\\\\n\\\\\\\\n*Berlin, March 15, 2023* \\\\\\\\u2013 Today marks the commencement of the Global Climate Action Forum in Berlin, a pivotal event drawing leaders from across the globe to address the pressing challenges faced by our environment. \\\\\\\\n\\\\\\\\nThe forum, organized by the Green Earth Initiative, is a testament to the growing urgency of climate action as world leaders, activists, and organizations converge to discuss and strategize on solutions to mitigate the impact of climate change. Among the prominent voices at the event is renowned activist Jamie Lee, who has been a leading figure in advocating for sustainable practices and policies.\\\\\\\\n\\\\\\\\nHeld at the heart of Berlin, the forum aims to foster collaboration and innovation in the fight against climate change. Participants are expected to engage in discussions that cover a wide range of topics, from renewable energy advancements to strategies for reducing carbon footprints and conserving biodiversity.\\\\\\\\n\\\\\\\\nThis gathering comes at a crucial time as the world grapples with the effects of climate change, including extreme weather events, rising sea levels, and threats to food security. The Global Climate Action Forum is not just a platform for dialogue, but a call to action for immediate and concrete steps to protect our planet for future generations.\\\\\\\\n\\\\\\\\nAs the forum continues over the next few days, stakeholders hope to forge partnerships and commitments that will drive significant progress in global climate policies. The outcomes of this forum are anticipated to influence international agreements and initiatives aimed at creating a sustainable and resilient future.\\\\\\\\n\\\\\\\\nWith Berlin as the backdrop, this forum highlights the city\\\\\\\\u2019s role as a leader in environmental advocacy and its commitment to fostering a global dialogue on climate action. The event underscores the importance of collective effort in tackling one of the most significant challenges of our time.\",\\\\n  \"chunk_id\": 1\\\\n}\\', \\'{\\\\n  \"title\": \"news_articles_texts.csv_51\",\\\\n  \"text_chunk\": \"mock_text: **Global Climate Forum Convenes in Sydney to Tackle Climate Change**\\\\\\\\n\\\\\\\\n*Sydney, March 14, 2022* \\\\\\\\u2014 Today marks the commencement of the much-anticipated Global Climate Forum in Sydney, an event that has gathered some of the brightest minds in environmental science and policy. The forum is set to address the pressing challenges posed by climate change and explore actionable solutions for a more sustainable future.\\\\\\\\n\\\\\\\\nDr. Nia Wallace, a prominent figure in climate research, is among the experts attending the forum. Her involvement underscores the event\\\\\\'s significance, as she brings a wealth of knowledge and expertise to the discussions. Dr. Wallace, along with her peers, will delve into critical topics such as carbon reduction strategies, renewable energy advancements, and the socio-economic impacts of climate policies.\\\\\\\\n\\\\\\\\nThe Global Climate Forum is organized by the Global Climate Forum, a leading international organization dedicated to fostering collaboration among scientists, policymakers, and industry leaders to combat climate change. The choice of Sydney as the host city highlights the region\\\\\\'s vulnerability to climate impacts, such as rising sea levels and extreme weather events, making it a fitting backdrop for these crucial deliberations.\\\\\\\\n\\\\\\\\nThroughout the forum, attendees will engage in a series of panels, workshops, and keynote speeches designed to inspire innovative solutions and encourage global cooperation. The event aims to not only raise awareness but also galvanize immediate and effective actions to mitigate the adverse effects of climate change on our planet.\\\\\\\\n\\\\\\\\nAs the world watches closely, the outcomes of the Global Climate Forum in Sydney could set the stage for a new era of environmental responsibility and international collaboration.\",\\\\n  \"chunk_id\": 1\\\\n}\\', \\'{\\\\n  \"title\": \"news_articles_texts.csv_325\",\\\\n  \"text_chunk\": \"mock_text: **James Carter Addresses Global Leadership Forum in London**\\\\\\\\n\\\\\\\\n*London, April 1, 2023* \\\\\\\\u2014 In a significant address to the Global Leadership Forum held in London, renowned political analyst James Carter shared his insights on emerging global trends that are shaping the future of international politics.\\\\\\\\n\\\\\\\\nThe event, which gathered some of the most influential figures in global governance and policy-making, provided a platform for Carter to delve into pressing issues facing the world today. His speech, delivered at precisely 9:00 AM GMT, captivated an audience keen on understanding the dynamics of current geopolitical shifts.\\\\\\\\n\\\\\\\\nCarter, well-regarded for his analytical prowess, highlighted several key trends that he believes will define the coming decade. Among these were the increasing role of technology in governance, the shifting alliances in international relations, and the growing importance of sustainable development in policy agendas.\\\\\\\\n\\\\\\\\n\\\\\\\\\"The world is at a crossroads,\\\\\\\\\" Carter stated emphatically. \\\\\\\\\"The decisions we make today will determine our collective future. It\\\\\\'s imperative that leaders across the globe collaborate to address these challenges.\\\\\\\\\"\\\\\\\\n\\\\\\\\nThe Global Leadership Forum, known for its commitment to fostering dialogue among world leaders, served as an ideal venue for Carter\\\\\\'s thought-provoking address. Participants from various sectors, including government, academia, and private industry, engaged in vibrant discussions following his speech, reflecting on the implications of his insights for their respective fields.\\\\\\\\n\\\\\\\\nAs the forum continues, attendees are expected to explore further the themes introduced by Carter, with the goal of crafting actionable strategies that can be implemented on a global scale.\\\\\\\\n\\\\\\\\nJames Carter\\\\\\'s participation in the forum underscores his standing as a pivotal voice in the realm of political analysis, and his contributions are likely to influence discussions well beyond the event\\\\\\'s conclusion.\",\\\\n  \"chunk_id\": 1\\\\n}\\', \\'{\\\\n  \"title\": \"news_articles_texts.csv_39\",\\\\n  \"text_chunk\": \"mock_text: **Capital City Hosts Policy Debate on Education Reform**\\\\\\\\n\\\\\\\\nDecember 4, 2022 - Capital City\\\\\\\\n\\\\\\\\nIn a spirited exchange of ideas and perspectives, experts and policymakers convened in Capital City today to participate in a comprehensive debate on education reform. The event was hosted by the esteemed Capital Policy Institute, drawing attention from a wide array of stakeholders in the education sector.\\\\\\\\n\\\\\\\\nAmong the key figures present was Policy Analyst Rachel Adams, who is well-known for her insightful analysis and expertise in educational policy. Rachel Adams, representing the Capital Policy Institute, emphasized the need for innovative strategies to address the evolving challenges faced by educational institutions across the nation.\\\\\\\\n\\\\\\\\nThe debate focused on several pressing issues, including curriculum updates to meet 21st-century skills, funding disparities across districts, and the integration of technology in classrooms. Participants engaged in lively discussions, exploring the potential impacts of proposed reforms on students and teachers alike.\\\\\\\\n\\\\\\\\n\\\\\\\\\"The future of education depends on our willingness to adapt and respond to the needs of both educators and learners,\\\\\\\\\" Adams stated during her address to the assembly. Her remarks underscored the importance of collaboration between policymakers, educators, and analysts to forge a path forward that enhances educational outcomes for all students.\\\\\\\\n\\\\\\\\nAs the debate concluded, participants expressed optimism about the possibility of implementing meaningful reforms that could transform the educational landscape. The event highlighted the critical role that policy debates play in shaping the future of education, and the Capital Policy Institute remains committed to facilitating such discussions in the future.\\\\\\\\n\\\\\\\\nThis gathering in Capital City marks a pivotal moment in the ongoing conversation about education reform, with many looking forward to the actionable insights that emerged from today\\\\\\'s discussions.\",\\\\n  \"chunk_id\": 1\\\\n}\\', \\'{\\\\n  \"title\": \"news_articles_texts.csv_360\",\\\\n  \"text_chunk\": \"mock_text: **David Young Addresses Global Economic Challenges at World Economic Forum**\\\\\\\\n\\\\\\\\n*International Conference Center, July 2, 2023* \\\\\\\\u2014 In an influential gathering that brought together some of the world\\\\\\'s leading economic minds, Economist David Young delivered a compelling address at the World Economic Forum. The event, held at the prestigious International Conference Center, focused on the pressing economic challenges confronting the global community today.\\\\\\\\n\\\\\\\\nAs delegates from around the world convened, Young took the stage to highlight the urgency of addressing various economic issues that have been exacerbated by recent global events. His speech, titled \\\\\\\\\"Navigating Economic Turbulence: Strategies for a Resilient Future,\\\\\\\\\" delved into the complexities of current economic landscapes and proposed a series of innovative solutions aimed at fostering stability and growth.\\\\\\\\n\\\\\\\\nYoung emphasized the importance of international cooperation and the need for robust policy frameworks to tackle challenges such as inflation, supply chain disruptions, and the lingering impacts of the pandemic. \\\\\\\\\"In these unprecedented times, we must come together to forge pathways that lead to sustainable and inclusive economic recovery,\\\\\\\\\" he asserted.\\\\\\\\n\\\\\\\\nThe World Economic Forum, renowned for its role in shaping global economic policy, provided the perfect platform for Young to share his insights. Attendees included policymakers, industry leaders, and fellow economists, all keen to engage in dialogue and explore actionable strategies.\\\\\\\\n\\\\\\\\nYoung\\\\\\'s address was met with keen interest and sparked lively discussions among participants. His call for collaborative efforts and innovative thinking resonated with the audience, underscoring the critical role that forums like this play in addressing the world\\\\\\'s most pressing economic issues.\\\\\\\\n\\\\\\\\nAs the conference progressed, delegates continued to engage in workshops and panels, exploring topics ranging from digital transformation to climate change\\\\\\'s impact on economies. The discussions were a testament to the collective commitment of those present to drive positive change and ensure a resilient economic future.\\\\\\\\n\\\\\\\\nThe World Economic Forum\\\\\\'s focus on economic summits such as this one highlights the organization\\\\\\'s ongoing commitment to fostering global dialogue and solutions. With thought leaders like David Young at the forefront, the path to addressing global economic challenges appears more navigable than ever.\",\\\\n  \"chunk_id\": 1\\\\n}\\', \\'{\\\\n  \"title\": \"news_articles_texts.csv_345\",\\\\n  \"text_chunk\": \"mock_text: **Global Leaders Convene for Critical Climate Discussions at United Nations Summit**\\\\\\\\n\\\\\\\\n*June 1, 2023*\\\\\\\\n\\\\\\\\nOn this pivotal day, world leaders have assembled at the renowned Global Summit Venue under the auspices of the United Nations. The purpose of this high-profile meeting is to tackle the pressing and urgent issues posed by climate change, which continues to challenge nations across the globe.\\\\\\\\n\\\\\\\\nThe summit, which is a significant event in the world events category, has drawn attention due to the sheer gravity of the topics on the agenda. Leaders from various nations are expected to engage in comprehensive discussions that aim to forge a collaborative path forward in combating the environmental crises that threaten the planet\\\\\\'s future.\\\\\\\\n\\\\\\\\nAs the summit unfolds, the overarching goal remains clear: to devise actionable strategies that can be implemented globally to mitigate the effects of climate change. The United Nations, hosting this crucial gathering, underscores the importance of international cooperation in addressing what many consider the defining issue of our time.\\\\\\\\n\\\\\\\\nThe conference promises to be a turning point, as representatives from numerous countries work to establish a unified front against the growing threat of climate change. With the eyes of the world watching, the outcomes of these discussions could set the tone for environmental policy and action for years to come.\",\\\\n  \"chunk_id\": 1\\\\n}\\']\\n\\nOutput JSON object:\\n'}]\n",
                        "Answered question\n"
                    ]
                }
            ],
            "source": [
                "answer_batch_size = 10 # How many chunks to integrate into the answer at a time\n",
                "# Generate an extended answer to the question, which could then be summarized\n",
                "(\n",
                "    partial_answers,\n",
                "    answer_progress,\n",
                ") = answer_builder.answer_question(\n",
                "    ai_configuration=ai_configuration,\n",
                "    question=question,\n",
                "    relevant_cids=relevant_cids,\n",
                "    cid_to_text=cid_to_text,\n",
                "    answer_batch_size=answer_batch_size,\n",
                ")\n",
                "print(f\"Answered question\")"
            ]
        },
        {
            "cell_type": "code",
            "execution_count": 20,
            "metadata": {},
            "outputs": [
                {
                    "name": "stdout",
                    "output_type": "stream",
                    "text": [
                        "**Chunks relevant/tested: 10/10** (topic 92: 5/5; topic 68: 5/5)\n",
                        "**Chunks referenced/relevant: 8/10** (answer 1: 8/10)\n"
                    ]
                }
            ],
            "source": [
                "# Output some process summarry information\n",
                "print(chunk_progress)\n",
                "print(answer_progress)"
            ]
        },
        {
            "cell_type": "code",
            "execution_count": 21,
            "metadata": {},
            "outputs": [
                {
                    "name": "stdout",
                    "output_type": "stream",
                    "text": [
                        "# Key Global Events: Economic and Climate Forums\n",
                        "\n",
                        "*In response to: What events are discussed?*\n",
                        "\n",
                        "## Introduction\n",
                        "\n",
                        "This report provides an overview of significant global events focused on economic and climate issues. The events are grouped into two main categories: Economic Forums and Climate Summits.\n",
                        "\n",
                        "**Economic Forums:**\n",
                        "- Global Economic Forum in the Financial District\n",
                        "- World Economic Forum in New York City\n",
                        "- Global Economic Forum in New York\n",
                        "- World Economic Forum at the International Conference Center\n",
                        "\n",
                        "**Climate Summits:**\n",
                        "- Climate Summit in Beijing\n",
                        "- Global Climate Action Forum in Berlin\n",
                        "- Global Climate Forum in Sydney\n",
                        "- United Nations Climate Summit\n",
                        "\n",
                        "## Analysis\n",
                        "\n",
                        "### Global Economic Forum in the Financial District\n",
                        "\n",
                        "The Global Economic Forum convened in the Financial District on March 21, 2024, bringing together economists and global leaders to discuss future economic trends and challenges. Key topics included the impact of technological advancements, sustainable economic policies, climate change, and digital currencies. The forum emphasized collaboration to address global economic challenges and highlighted the Financial District as a hub for international dialogue [source: news_articles_texts.csv_179 (1)].\n",
                        "\n",
                        "### World Economic Forum in New York City\n",
                        "\n",
                        "On April 3, 2023, the World Economic Forum gathered in New York City to discuss global market dynamics. Economists and financial experts, including Dr. Alan Greene, focused on sustainable growth, inflation, supply chain disruptions, and geopolitical influences on trade. The forum underscored the importance of international cooperation and the role of emerging technologies in reshaping economic paradigms [source: news_articles_texts.csv_97 (1)].\n",
                        "\n",
                        "### Global Economic Forum in New York\n",
                        "\n",
                        "The Global Economic Forum took place in New York on July 25, 2021, focusing on post-pandemic recovery strategies and the role of digital currencies. Economist Sarah Lin highlighted the need for sustainable growth and international cooperation. The forum concluded with a call for collaboration to address climate change, wealth inequality, and digital transformation [source: news_articles_texts.csv_105 (1)].\n",
                        "\n",
                        "### World Economic Forum at the International Conference Center\n",
                        "\n",
                        "Economist David Young addressed the World Economic Forum on July 2, 2023, at the International Conference Center. His speech focused on economic challenges such as inflation and supply chain disruptions, emphasizing international cooperation and robust policy frameworks for sustainable recovery. The forum facilitated discussions on digital transformation and climate change's economic impacts [source: news_articles_texts.csv_360 (1)].\n",
                        "\n",
                        "### Climate Summit in Beijing\n",
                        "\n",
                        "World leaders convened in Beijing on April 1, 2023, for a United Nations-organized climate summit. The event focused on strategies to combat climate change, with sessions on renewable energy and carbon pricing. Prime Minister Liu Wei emphasized international cooperation, and the summit aimed to influence future climate policies [source: news_articles_texts.csv_145 (1)].\n",
                        "\n",
                        "### Global Climate Action Forum in Berlin\n",
                        "\n",
                        "The Global Climate Action Forum began in Berlin on March 15, 2023, organized by the Green Earth Initiative. Leaders and activists discussed renewable energy, carbon reduction, and biodiversity conservation. The forum aimed to foster collaboration and innovation in climate action, highlighting Berlin's role in environmental advocacy [source: news_articles_texts.csv_214 (1)].\n",
                        "\n",
                        "### Global Climate Forum in Sydney\n",
                        "\n",
                        "The Global Climate Forum commenced in Sydney on March 14, 2022, focusing on carbon reduction, renewable energy, and socio-economic impacts of climate policies. Dr. Nia Wallace and other experts engaged in discussions to inspire solutions and encourage global cooperation. The forum aimed to galvanize effective actions against climate change [source: news_articles_texts.csv_51 (1)].\n",
                        "\n",
                        "### United Nations Climate Summit\n",
                        "\n",
                        "On June 1, 2023, world leaders gathered at the United Nations Climate Summit to address climate change. The summit aimed to devise global strategies for environmental crises, emphasizing international cooperation. The outcomes are expected to influence future environmental policies [source: news_articles_texts.csv_345 (1)].\n",
                        "\n",
                        "## Conclusion\n",
                        "\n",
                        "The events discussed in this report highlight the global focus on economic and climate challenges. Economic forums emphasized the need for sustainable growth, technological adaptation, and international cooperation to address post-pandemic recovery and digital transformation. Climate summits underscored the urgency of collaborative action to combat climate change, with discussions on renewable energy and carbon reduction. These gatherings reflect a collective commitment to addressing some of the most pressing issues facing the world today, with the potential to shape future policies and initiatives.\n",
                        "\n",
                        "\n"
                    ]
                }
            ],
            "source": [
                "# Output the final extended answer\n",
                "final_answer = partial_answers[-1]\n",
                "print(final_answer)"
            ]
        }
    ],
    "metadata": {
        "kernelspec": {
            "display_name": ".venv",
            "language": "python",
            "name": "python3"
        },
        "language_info": {
            "codemirror_mode": {
                "name": "ipython",
                "version": 3
            },
            "file_extension": ".py",
            "mimetype": "text/x-python",
            "name": "python",
            "nbconvert_exporter": "python",
            "pygments_lexer": "ipython3",
            "version": "3.11.9"
        }
    },
    "nbformat": 4,
    "nbformat_minor": 2
}
