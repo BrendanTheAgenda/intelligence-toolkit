{
    "cells": [
        {
            "cell_type": "markdown",
            "metadata": {},
            "source": [
                "# Query Text Data workflow with \"Lazy GraphRAG\" retrieval mechanism\n",
                "\n",
                "Vector-based semantic search is a \"best first\" search approach for relevant chunks - it simply takes the top k most similar chunks based on embedding distances. It has no sense of the breadth of semantic content in the dataset.\n",
                "\n",
                "Full [GraphRAG](https://aka.ms/graphrag) is a \"breadth first\" search approach for relevant content in community summaries - it always queries each community. It has no sense of which communities are best.\n",
                "\n",
                "Lazy GraphRAG is a hybrid approach that requires no summarization-based index (which is expensive, especially if the user only has a few queries). Instead, it relies purely on an embedding-based index for input text chunks (cheap, fast) augmented by the concept graph of noun-phrase cooccurrences extracted from these chunks (free, fast). It works as follows:\n",
                "\n",
                "- Given a query, text chunks are ranked using vector-based semantic search.\n",
                "- Chunk rankings are used to determine community rankings in the concept graph.\n",
                "- In community rank order, the top k chunks are subject to a rapid relevant test (cheap, fast). If relevant chunks are found, the community is retained, otherwise it is discarded.\n",
                "- After n communities fail to return any relevant chunks, the \"iterative narrowing\" process repeats with remaining communities in rank order.\n",
                "- The process terminates when no more testable chunks exist or a predefined testing budget is reached (e.g., 100 relevance tests).\n",
                "\n",
                "The advantages of this approach include:\n",
                "\n",
                "- A balance of best-first (semantic search) and breadth-first (community structure) approaches for any testing budget\n",
                "- Very fast and almost free - suitable for one-off and exploratory queries before committing to a full indexing\n",
                "- Easily accommodates dynamic contexts where new texts/chunks are streaming in to the dataset (supported in the current implementation)\n",
                "- Provides a consistent level of \"effort\" for a fixed test budget, providing various standards of answers to questions (e.g., global questions) for which there is no ground truth (e.g., 1000 chunks = gold standard, 500 chunks = silver standard, 100 chunks = bronze standard, etc.)\n"
            ]
        },
        {
            "cell_type": "code",
            "execution_count": 156,
            "metadata": {},
            "outputs": [],
            "source": [
                "import sys\n",
                "\n",
                "sys.path.append(\"..\")"
            ]
        },
        {
            "cell_type": "code",
            "execution_count": 157,
            "metadata": {},
            "outputs": [],
            "source": [
                "import os\n",
                "import asyncio\n",
                "import io\n",
                "import pandas as pd\n",
                "from toolkit.AI.openai_configuration import OpenAIConfiguration\n",
                "from toolkit.AI.openai_embedder import OpenAIEmbedder\n",
                "from toolkit.helpers.constants import CACHE_PATH\n",
                "\n",
                "import toolkit.query_text_data.input_processor as input_processor\n",
                "import toolkit.query_text_data.relevance_assessor as relevance_assessor\n",
                "import toolkit.query_text_data.answer_builder as answer_builder\n",
                "import toolkit.query_text_data.graph_builder as graph_builder\n",
                "import toolkit.query_text_data.pattern_detector as pattern_detector\n",
                "import toolkit.graph.graph_fusion_encoder_embedding as gfee\n",
                "import toolkit.query_text_data.helper_functions as helper_functions\n",
                "import nest_asyncio # Necessary to run async code in ipynb\n",
                "\n",
                "nest_asyncio.apply()"
            ]
        },
        {
            "cell_type": "code",
            "execution_count": 158,
            "metadata": {},
            "outputs": [
                {
                    "name": "stderr",
                    "output_type": "stream",
                    "text": [
                        "[nltk_data] Downloading package brown to\n",
                        "[nltk_data]     C:\\Users\\daedge\\AppData\\Roaming\\nltk_data...\n",
                        "[nltk_data]   Package brown is already up-to-date!\n",
                        "[nltk_data] Downloading package punkt to\n",
                        "[nltk_data]     C:\\Users\\daedge\\AppData\\Roaming\\nltk_data...\n",
                        "[nltk_data]   Package punkt is already up-to-date!\n",
                        "[nltk_data] Downloading package punkt_tab to\n",
                        "[nltk_data]     C:\\Users\\daedge\\AppData\\Roaming\\nltk_data...\n",
                        "[nltk_data]   Package punkt_tab is already up-to-date!\n"
                    ]
                },
                {
                    "data": {
                        "text/plain": [
                            "<module 'toolkit.query_text_data.graph_builder' from 'c:\\\\Users\\\\daedge\\\\Code\\\\ITK\\\\intelligence-toolkit\\\\example_notebooks\\\\..\\\\toolkit\\\\query_text_data\\\\graph_builder.py'>"
                        ]
                    },
                    "execution_count": 158,
                    "metadata": {},
                    "output_type": "execute_result"
                }
            ],
            "source": [
                "# Comment/uncomment the following lines to toggle access to library code updates\n",
                "import importlib\n",
                "importlib.reload(input_processor)\n",
                "importlib.reload(pattern_detector)\n",
                "importlib.reload(helper_functions)\n",
                "importlib.reload(relevance_assessor)\n",
                "importlib.reload(answer_builder)\n",
                "importlib.reload(graph_builder)"
            ]
        },
        {
            "cell_type": "code",
            "execution_count": 159,
            "metadata": {},
            "outputs": [],
            "source": [
                "# Set up the AI model and embedding model\n",
                "ai_configuration = OpenAIConfiguration(\n",
                "    {\n",
                "        \"api_type\": \"OpenAI\",\n",
                "        \"api_key\": os.environ[\"OPENAI_API_KEY\"],\n",
                "        \"model\": \"gpt-4o-2024-08-06\",\n",
                "    }\n",
                ")\n",
                "\n",
                "text_embedder = OpenAIEmbedder(\n",
                "    configuration=ai_configuration,\n",
                ")"
            ]
        },
        {
            "cell_type": "code",
            "execution_count": 160,
            "metadata": {},
            "outputs": [
                {
                    "name": "stdout",
                    "output_type": "stream",
                    "text": [
                        "Chunked input text\n"
                    ]
                }
            ],
            "source": [
                "# Provide text inputs as rows of a dataframe\n",
                "input_path = \"../example_outputs/query_text_data/news_articles/news_articles_texts.csv\"\n",
                "file_name = input_path.split(\"/\")[-1]\n",
                "file_to_chunks = input_processor.process_file_bytes({file_name: open(input_path, 'rb').read()}, input_processor.PeriodOption.NONE)\n",
                "print(\"Chunked input text\")"
            ]
        },
        {
            "cell_type": "code",
            "execution_count": 161,
            "metadata": {},
            "outputs": [
                {
                    "name": "stdout",
                    "output_type": "stream",
                    "text": [
                        "Processed chunks\n"
                    ]
                }
            ],
            "source": [
                "max_cluster_size = 25 # The maximum number of concepts in a leaf-level community in the concept graph\n",
                "# Process the chunks into the index data structures\n",
                "(\n",
                "    cid_to_text,\n",
                "    text_to_cid,\n",
                "    period_concept_graphs,\n",
                "    hierarchical_communities,\n",
                "    community_to_label,\n",
                "    concept_to_cids,\n",
                "    cid_to_concepts,\n",
                "    previous_cid,\n",
                "    next_cid,\n",
                "    period_to_cids,\n",
                "    node_period_counts,\n",
                "    edge_period_counts,\n",
                ") = input_processor.process_chunks(file_to_chunks=file_to_chunks, max_cluster_size=max_cluster_size)\n",
                "print(f\"Processed chunks\")"
            ]
        },
        {
            "cell_type": "code",
            "execution_count": 162,
            "metadata": {},
            "outputs": [
                {
                    "name": "stdout",
                    "output_type": "stream",
                    "text": [
                        "Got 501 existing texts\n",
                        "Got 0 new texts\n",
                        "Embedded chunk text\n"
                    ]
                }
            ],
            "source": [
                "# Embed the text chunks\n",
                "cid_to_vector = await helper_functions.embed_texts(\n",
                "    cid_to_text=cid_to_text,\n",
                "    text_embedder=text_embedder,\n",
                ")\n",
                "print(f\"Embedded chunk text\")"
            ]
        },
        {
            "cell_type": "code",
            "execution_count": 163,
            "metadata": {},
            "outputs": [
                {
                    "name": "stdout",
                    "output_type": "stream",
                    "text": [
                        "Semantic search cids: [213, 50, 104, 359, 38, 449, 76, 178, 182, 314, 344, 376, 237, 484, 464, 181, 29, 96, 324, 144, 93, 202, 150, 399, 279, 155, 179, 441, 364, 370, 62, 229, 381, 56, 446, 183, 189, 310, 409, 470, 55, 267, 400, 64, 457, 196, 388, 90, 485, 380, 138, 290, 341, 4, 224, 31, 47, 219, 24, 251, 239, 244, 109, 440, 348, 84, 180, 296, 284, 130, 168, 173, 112, 188, 65, 233, 382, 349, 164, 442, 418, 14, 304, 493, 216, 277, 184, 468, 192, 278, 408, 166, 443, 165, 72, 20, 105, 412, 325, 379]\n",
                        "Level 0 community sequence: ['1.4', '1.1', '1.7', '1.10', '1.5', '1.3', '1.13', '1.6', '1.8', '1.18', '1.9', '1.11', '1.17', '1.15', '1.19', '1.14', '1.2', '1.16', '1.12']\n",
                        "Level 1 community sequence: ['1.1.3', '1.1.1', '1.10.1', '1.4.3', '1.4.1', '1.4.6', '1.1.6', '1.1.4', '1.1.2', '1.4.2', '1.4.5', '1.4.4', '1.3.1', '1.13.2', '1.1.5', '1.1.7', '1.10.2', '1.18', '1.3.4', '1.9.2', '1.5.1', '1.6.3', '1.10.3', '1.8.5', '1.13.3', '1.3.3', '1.5.5', '1.17.3', '1.7.18', '1.6.5', '1.5.2', '1.10.5', '1.7.25', '1.11.1', '1.8.2', '1.5.4', '1.10.4', '1.19', '1.14.5', '1.7.5', '1.11.2', '1.6.1', '1.8.1', '1.6.2', '1.5.6', '1.11.4', '1.7.21', '1.11.6', '1.7.9', '1.7.4', '1.13.5', '1.11.3', '1.13.4', '1.4.7', '1.13.1', '1.3.2', '1.7.1', '1.10.6', '1.15.4', '1.5.3', '1.9.3', '1.15.2', '1.12.2', '1.5.8', '1.7.19', '1.2.1', '1.8.3', '1.2.2', '1.7.24', '1.7.6', '1.11.5', '1.14.2', '1.17.5', '1.2.4', '1.5.9', '1.7.28', '1.17.1', '1.16.1', '1.7.10', '1.2.5', '1.7.8', '1.9.5', '1.7.17', '1.9.1', '1.5.7', '1.8.6', '1.9.4', '1.3.5', '1.2.6', '1.14.1', '1.14.3', '1.6.6', '1.12.1', '1.17.2', '1.8.4', '1.2.3', '1.16.2', '1.7.22', '1.16.4', '1.7.2', '1.7.23', '1.15.3', '1.12.3', '1.7.15', '1.16.3', '1.12.4', '1.7.3', '1.7.27', '1.7.7', '1.6.4', '1.17.4', '1.7.12', '1.15.1', '1.3.6', '1.7.26', '1.7.16', '1.7.11', '1.2.7', '1.6.7', '1.13.6', '1.14.4', '1.7.20', '1.7.14', '1.7.13']\n",
                        "Level 2 community sequence: ['1.1.3', '1.1.1', '1.10.1', '1.4.3', '1.4.6', '1.1.6', '1.1.4', '1.1.2', '1.4.2', '1.4.1.1', '1.4.5', '1.4.4', '1.13.2', '1.4.1.5', '1.1.5', '1.1.7', '1.10.2', '1.3.4', '1.9.2', '1.3.1.1', '1.4.1.2', '1.6.3', '1.10.3', '1.8.5', '1.13.3', '1.4.1.3', '1.4.1.4', '1.3.3', '1.5.5', '1.17.3', '1.7.18', '1.6.5', '1.5.2', '1.10.5', '1.7.25', '1.11.1', '1.8.2', '1.5.4', '1.3.1.3', '1.10.4', '1.14.5', '1.7.5', '1.11.2', '1.6.1', '1.3.1.2', '1.8.1', '1.6.2', '1.5.6', '1.11.4', '1.7.21', '1.11.6', '1.7.9', '1.7.4', '1.13.5', '1.5.1.1', '1.11.3', '1.13.4', '1.4.7', '1.13.1', '1.5.1.2', '1.7.1', '1.10.6', '1.15.4', '1.5.3', '1.9.3', '1.15.2', '1.12.2', '1.3.2.1', '1.5.8', '1.5.1.3', '1.7.19', '1.8.3', '1.7.24', '1.7.6', '1.11.5', '1.3.1.4', '1.14.2', '1.17.5', '1.2.4', '1.5.9', '1.7.28', '1.17.1', '1.16.1', '1.7.10', '1.3.2.2', '1.3.1.5', '1.2.5', '1.7.8', '1.9.5', '1.7.17', '1.9.1', '1.5.7', '1.8.6', '1.9.4', '1.3.5', '1.2.6', '1.14.1', '1.3.2.3', '1.14.3', '1.6.6', '1.12.1', '1.2.1.4', '1.5.1.4', '1.17.2', '1.8.4', '1.2.3', '1.16.2', '1.7.22', '1.16.4', '1.3.2.5', '1.2.2.2', '1.7.2', '1.2.2.4', '1.7.23', '1.15.3', '1.12.3', '1.7.15', '1.16.3', '1.2.1.1', '1.12.4', '1.2.2.1', '1.2.1.2', '1.2.2.3', '1.7.3', '1.7.27', '1.7.7', '1.6.4', '1.17.4', '1.7.12', '1.15.1', '1.3.6', '1.7.26', '1.7.16', '1.5.1.5', '1.7.11', '1.2.7', '1.6.7', '1.13.6', '1.14.4', '1.2.1.3', '1.3.2.4', '1.7.20', '1.7.14', '1.7.13']\n",
                        "New level -1 loop after 0 tests\n",
                        "Community sequence: ['1']\n",
                        "Assessing relevance for community 1 with chunks [213, 50, 104, 359, 38]\n",
                        "Assessing relevance for topic 1 with 5 chunks\n"
                    ]
                },
                {
                    "name": "stderr",
                    "output_type": "stream",
                    "text": [
                        "100%|██████████| 5/5 [00:00<00:00,  5.69it/s]\n"
                    ]
                },
                {
                    "name": "stdout",
                    "output_type": "stream",
                    "text": [
                        "Batch 1 of 1: 5 relevant chunks\n",
                        "Community 1 relevant? True\n",
                        "Incrementing level\n",
                        "New level 0 loop after 5 tests\n",
                        "Community sequence: ['1.4', '1.1', '1.7', '1.10', '1.5', '1.3', '1.13', '1.6', '1.8', '1.18', '1.9', '1.11', '1.17', '1.15', '1.19', '1.14', '1.2', '1.16', '1.12']\n",
                        "Assessing relevance for community 1.4 with chunks [314, 344, 376, 484, 464]\n",
                        "Assessing relevance for topic 1.4 with 5 chunks\n"
                    ]
                },
                {
                    "name": "stderr",
                    "output_type": "stream",
                    "text": [
                        "100%|██████████| 5/5 [00:01<00:00,  4.41it/s]\n"
                    ]
                },
                {
                    "name": "stdout",
                    "output_type": "stream",
                    "text": [
                        "Batch 1 of 1: 5 relevant chunks\n",
                        "Community 1.4 relevant? True\n",
                        "Assessing relevance for community 1.1 with chunks [449, 76, 178, 182, 181]\n",
                        "Assessing relevance for topic 1.1 with 5 chunks\n"
                    ]
                },
                {
                    "name": "stderr",
                    "output_type": "stream",
                    "text": [
                        "100%|██████████| 5/5 [00:01<00:00,  4.95it/s]\n"
                    ]
                },
                {
                    "name": "stdout",
                    "output_type": "stream",
                    "text": [
                        "Batch 1 of 1: 5 relevant chunks\n",
                        "Community 1.1 relevant? True\n",
                        "Assessing relevance for community 1.7 with chunks [237, 196, 388, 168, 166]\n",
                        "Assessing relevance for topic 1.7 with 5 chunks\n"
                    ]
                },
                {
                    "name": "stderr",
                    "output_type": "stream",
                    "text": [
                        "100%|██████████| 5/5 [00:00<00:00,  8.21it/s]\n"
                    ]
                },
                {
                    "name": "stdout",
                    "output_type": "stream",
                    "text": [
                        "Batch 1 of 1: 5 relevant chunks\n",
                        "Community 1.7 relevant? True\n",
                        "Assessing relevance for community 1.10 with chunks [399, 90, 290, 109, 277]\n",
                        "Assessing relevance for topic 1.10 with 5 chunks\n"
                    ]
                },
                {
                    "name": "stderr",
                    "output_type": "stream",
                    "text": [
                        "100%|██████████| 5/5 [00:00<00:00,  7.91it/s]\n"
                    ]
                },
                {
                    "name": "stdout",
                    "output_type": "stream",
                    "text": [
                        "Batch 1 of 1: 5 relevant chunks\n",
                        "Community 1.10 relevant? True\n",
                        "Assessing relevance for community 1.5 with chunks [267, 65, 184, 343, 297]\n",
                        "Assessing relevance for topic 1.5 with 5 chunks\n"
                    ]
                },
                {
                    "name": "stderr",
                    "output_type": "stream",
                    "text": [
                        "100%|██████████| 5/5 [00:01<00:00,  4.71it/s]\n"
                    ]
                },
                {
                    "name": "stdout",
                    "output_type": "stream",
                    "text": [
                        "Batch 1 of 1: 5 relevant chunks\n",
                        "Community 1.5 relevant? True\n",
                        "Assessing relevance for community 1.3 with chunks [188, 468, 408, 347, 483]\n",
                        "Assessing relevance for topic 1.3 with 5 chunks\n"
                    ]
                },
                {
                    "name": "stderr",
                    "output_type": "stream",
                    "text": [
                        "100%|██████████| 5/5 [00:00<00:00,  8.84it/s]\n"
                    ]
                },
                {
                    "name": "stdout",
                    "output_type": "stream",
                    "text": [
                        "Batch 1 of 1: 5 relevant chunks\n",
                        "Community 1.3 relevant? True\n",
                        "Assessing relevance for community 1.13 with chunks [179, 485, 141, 120]\n",
                        "Assessing relevance for topic 1.13 with 4 chunks\n"
                    ]
                },
                {
                    "name": "stderr",
                    "output_type": "stream",
                    "text": [
                        "100%|██████████| 4/4 [00:00<00:00,  6.96it/s]\n"
                    ]
                },
                {
                    "name": "stdout",
                    "output_type": "stream",
                    "text": [
                        "Batch 1 of 1: 4 relevant chunks\n",
                        "Community 1.13 relevant? True\n",
                        "Assessing relevance for community 1.6 with chunks [341, 445, 252, 320, 274]\n",
                        "Assessing relevance for topic 1.6 with 5 chunks\n"
                    ]
                },
                {
                    "name": "stderr",
                    "output_type": "stream",
                    "text": [
                        "100%|██████████| 5/5 [00:00<00:00,  5.56it/s]\n"
                    ]
                },
                {
                    "name": "stdout",
                    "output_type": "stream",
                    "text": [
                        "Batch 1 of 1: 5 relevant chunks\n",
                        "Community 1.6 relevant? True\n",
                        "Assessing relevance for community 1.8 with chunks [433, 363, 32, 19, 447]\n",
                        "Assessing relevance for topic 1.8 with 5 chunks\n"
                    ]
                },
                {
                    "name": "stderr",
                    "output_type": "stream",
                    "text": [
                        "100%|██████████| 5/5 [00:00<00:00,  5.59it/s]\n"
                    ]
                },
                {
                    "name": "stdout",
                    "output_type": "stream",
                    "text": [
                        "Batch 1 of 1: 5 relevant chunks\n",
                        "Community 1.8 relevant? True\n",
                        "Assessing relevance for community 1.18 with chunks [373]\n",
                        "Assessing relevance for topic 1.18 with 1 chunks\n"
                    ]
                },
                {
                    "name": "stderr",
                    "output_type": "stream",
                    "text": [
                        "100%|██████████| 1/1 [00:00<00:00,  1.60it/s]\n"
                    ]
                },
                {
                    "name": "stdout",
                    "output_type": "stream",
                    "text": [
                        "Batch 1 of 1: 1 relevant chunks\n",
                        "Community 1.18 relevant? True\n",
                        "Assessing relevance for community 1.9 with chunks [278, 162, 281, 346, 421]\n",
                        "Assessing relevance for topic 1.9 with 5 chunks\n"
                    ]
                },
                {
                    "name": "stderr",
                    "output_type": "stream",
                    "text": [
                        "100%|██████████| 5/5 [00:02<00:00,  1.72it/s]\n"
                    ]
                },
                {
                    "name": "stdout",
                    "output_type": "stream",
                    "text": [
                        "Batch 1 of 1: 5 relevant chunks\n",
                        "Community 1.9 relevant? True\n",
                        "Assessing relevance for community 1.11 with chunks [272, 301, 355, 142]\n",
                        "Assessing relevance for topic 1.11 with 4 chunks\n"
                    ]
                },
                {
                    "name": "stderr",
                    "output_type": "stream",
                    "text": [
                        "100%|██████████| 4/4 [00:00<00:00,  7.35it/s]\n"
                    ]
                },
                {
                    "name": "stdout",
                    "output_type": "stream",
                    "text": [
                        "Batch 1 of 1: 4 relevant chunks\n",
                        "Community 1.11 relevant? True\n",
                        "Assessing relevance for community 1.17 with chunks [374, 58, 40, 488, 236]\n",
                        "Assessing relevance for topic 1.17 with 5 chunks\n"
                    ]
                },
                {
                    "name": "stderr",
                    "output_type": "stream",
                    "text": [
                        "100%|██████████| 5/5 [00:00<00:00,  7.42it/s]\n"
                    ]
                },
                {
                    "name": "stdout",
                    "output_type": "stream",
                    "text": [
                        "Batch 1 of 1: 5 relevant chunks\n",
                        "Community 1.17 relevant? True\n",
                        "Assessing relevance for community 1.15 with chunks [306, 139, 100, 103]\n",
                        "Assessing relevance for topic 1.15 with 4 chunks\n"
                    ]
                },
                {
                    "name": "stderr",
                    "output_type": "stream",
                    "text": [
                        "100%|██████████| 4/4 [00:00<00:00,  4.49it/s]\n"
                    ]
                },
                {
                    "name": "stdout",
                    "output_type": "stream",
                    "text": [
                        "Batch 1 of 1: 3 relevant chunks\n",
                        "Community 1.15 relevant? True\n",
                        "Assessing relevance for community 1.14 with chunks [151, 234, 437, 207, 390]\n",
                        "Assessing relevance for topic 1.14 with 5 chunks\n"
                    ]
                },
                {
                    "name": "stderr",
                    "output_type": "stream",
                    "text": [
                        "100%|██████████| 5/5 [00:00<00:00,  6.77it/s]\n"
                    ]
                },
                {
                    "name": "stdout",
                    "output_type": "stream",
                    "text": [
                        "Batch 1 of 1: 5 relevant chunks\n",
                        "Community 1.14 relevant? True\n",
                        "Assessing relevance for community 1.2 with chunks [266, 472, 435, 185, 286]\n",
                        "Assessing relevance for topic 1.2 with 5 chunks\n"
                    ]
                },
                {
                    "name": "stderr",
                    "output_type": "stream",
                    "text": [
                        "100%|██████████| 5/5 [00:00<00:00,  5.59it/s]\n"
                    ]
                },
                {
                    "name": "stdout",
                    "output_type": "stream",
                    "text": [
                        "Batch 1 of 1: 5 relevant chunks\n",
                        "Community 1.2 relevant? True\n",
                        "Assessing relevance for community 1.16 with chunks [1, 396]\n",
                        "Assessing relevance for topic 1.16 with 2 chunks\n"
                    ]
                },
                {
                    "name": "stderr",
                    "output_type": "stream",
                    "text": [
                        "100%|██████████| 2/2 [00:00<00:00,  3.87it/s]\n"
                    ]
                },
                {
                    "name": "stdout",
                    "output_type": "stream",
                    "text": [
                        "Batch 1 of 1: 2 relevant chunks\n",
                        "Community 1.16 relevant? True\n",
                        "Assessing relevance for community 1.12 with chunks [137, 392, 92, 57]\n",
                        "Assessing relevance for topic 1.12 with 4 chunks\n"
                    ]
                },
                {
                    "name": "stderr",
                    "output_type": "stream",
                    "text": [
                        "100%|██████████| 4/4 [00:00<00:00,  7.75it/s]\n"
                    ]
                },
                {
                    "name": "stdout",
                    "output_type": "stream",
                    "text": [
                        "Batch 1 of 1: 4 relevant chunks\n",
                        "Community 1.12 relevant? True\n",
                        "Incrementing level\n",
                        "New level 1 loop after 84 tests\n",
                        "Community sequence: ['1.1.3', '1.1.1', '1.10.1', '1.4.3', '1.4.1', '1.4.6', '1.1.6', '1.1.4', '1.1.2', '1.4.2', '1.4.5', '1.4.4', '1.3.1', '1.13.2', '1.1.5', '1.1.7', '1.10.2', '1.18', '1.3.4', '1.9.2', '1.5.1', '1.6.3', '1.10.3', '1.8.5', '1.13.3', '1.3.3', '1.5.5', '1.17.3', '1.7.18', '1.6.5', '1.5.2', '1.10.5', '1.7.25', '1.11.1', '1.8.2', '1.5.4', '1.10.4', '1.19', '1.14.5', '1.7.5', '1.11.2', '1.6.1', '1.8.1', '1.6.2', '1.5.6', '1.11.4', '1.7.21', '1.11.6', '1.7.9', '1.7.4', '1.13.5', '1.11.3', '1.13.4', '1.4.7', '1.13.1', '1.3.2', '1.7.1', '1.10.6', '1.15.4', '1.5.3', '1.9.3', '1.15.2', '1.12.2', '1.5.8', '1.7.19', '1.2.1', '1.8.3', '1.2.2', '1.7.24', '1.7.6', '1.11.5', '1.14.2', '1.17.5', '1.2.4', '1.5.9', '1.7.28', '1.17.1', '1.16.1', '1.7.10', '1.2.5', '1.7.8', '1.9.5', '1.7.17', '1.9.1', '1.5.7', '1.8.6', '1.9.4', '1.3.5', '1.2.6', '1.14.1', '1.14.3', '1.6.6', '1.12.1', '1.17.2', '1.8.4', '1.2.3', '1.16.2', '1.7.22', '1.16.4', '1.7.2', '1.7.23', '1.15.3', '1.12.3', '1.7.15', '1.16.3', '1.12.4', '1.7.3', '1.7.27', '1.7.7', '1.6.4', '1.17.4', '1.7.12', '1.15.1', '1.3.6', '1.7.26', '1.7.16', '1.7.11', '1.2.7', '1.6.7', '1.13.6', '1.14.4', '1.7.20', '1.7.14', '1.7.13']\n",
                        "Assessing relevance for community 1.1.3 with chunks [96, 93, 202, 150, 370]\n",
                        "Assessing relevance for topic 1.1.3 with 5 chunks\n"
                    ]
                },
                {
                    "name": "stderr",
                    "output_type": "stream",
                    "text": [
                        "100%|██████████| 5/5 [00:00<00:00,  6.30it/s]\n"
                    ]
                },
                {
                    "name": "stdout",
                    "output_type": "stream",
                    "text": [
                        "Batch 1 of 1: 5 relevant chunks\n",
                        "Community 1.1.3 relevant? True\n",
                        "Assessing relevance for community 1.1.1 with chunks [29, 144, 441, 229, 446]\n",
                        "Assessing relevance for topic 1.1.1 with 5 chunks\n"
                    ]
                },
                {
                    "name": "stderr",
                    "output_type": "stream",
                    "text": [
                        "100%|██████████| 5/5 [00:00<00:00,  8.40it/s]\n"
                    ]
                },
                {
                    "name": "stdout",
                    "output_type": "stream",
                    "text": [
                        "Batch 1 of 1: 5 relevant chunks\n",
                        "Community 1.1.1 relevant? True\n",
                        "Assessing relevance for community 1.10.1 with chunks [324, 155, 14, 192, 70]\n",
                        "Assessing relevance for topic 1.10.1 with 5 chunks\n"
                    ]
                },
                {
                    "name": "stderr",
                    "output_type": "stream",
                    "text": [
                        "100%|██████████| 5/5 [00:00<00:00,  7.46it/s]\n"
                    ]
                },
                {
                    "name": "stdout",
                    "output_type": "stream",
                    "text": [
                        "Batch 1 of 1: 5 relevant chunks\n",
                        "Community 1.10.1 relevant? True\n",
                        "Assessing relevance for community 1.4.3 with chunks [364, 310, 55, 224, 440]\n",
                        "Assessing relevance for topic 1.4.3 with 5 chunks\n"
                    ]
                },
                {
                    "name": "stderr",
                    "output_type": "stream",
                    "text": [
                        "100%|██████████| 1/1 [00:00<00:00,  1.71it/s]\n"
                    ]
                },
                {
                    "name": "stdout",
                    "output_type": "stream",
                    "text": [
                        "Batch 1 of 1: 1 relevant chunks\n",
                        "Community 1.4.3 relevant? True\n",
                        "Assessing relevance for community 1.4.1 with chunks [189, 112, 304, 153, 288]\n",
                        "Assessing relevance for topic 1.4.1 with 5 chunks\n"
                    ]
                },
                {
                    "name": "stderr",
                    "output_type": "stream",
                    "text": [
                        "0it [00:00, ?it/s]\n"
                    ]
                },
                {
                    "name": "stdout",
                    "output_type": "stream",
                    "text": [
                        "Batch 1 of 1: 0 relevant chunks\n",
                        "Community 1.4.1 relevant? False\n",
                        "Assessing relevance for community 1.4.6 with chunks [279, 477, 113, 45]\n",
                        "Assessing relevance for topic 1.4.6 with 4 chunks\n"
                    ]
                },
                {
                    "name": "stderr",
                    "output_type": "stream",
                    "text": [
                        "0it [00:00, ?it/s]\n"
                    ]
                },
                {
                    "name": "stdout",
                    "output_type": "stream",
                    "text": [
                        "Batch 1 of 1: 0 relevant chunks\n",
                        "Community 1.4.6 relevant? False\n",
                        "Assessing relevance for community 1.1.6 with chunks [470, 337, 261, 119, 132]\n",
                        "Assessing relevance for topic 1.1.6 with 5 chunks\n"
                    ]
                },
                {
                    "name": "stderr",
                    "output_type": "stream",
                    "text": [
                        "0it [00:00, ?it/s]"
                    ]
                },
                {
                    "name": "stdout",
                    "output_type": "stream",
                    "text": [
                        "Batch 1 of 1: 0 relevant chunks\n",
                        "Community 1.1.6 relevant? False\n",
                        "0 successive irrelevant communities; restarting\n",
                        "Incrementing level\n",
                        "Assessing relevance for neighbours with 0 chunks\n",
                        "[('topic 1.10.1', 192, 'Yes'), ('topic 1.10.1', 70, 'Yes'), ('topic 1.4.3', 364, 'Yes')]\n",
                        "**Chunks relevant/tested: 99/100** (topic 1: 5/5; topic 1.4: 5/5; topic 1.1: 5/5; topic 1.7: 5/5; topic 1.10: 5/5; topic 1.5: 5/5; topic 1.3: 5/5; topic 1.13: 4/4; topic 1.6: 5/5; topic 1.8: 5/5; topic 1.18: 1/1; topic 1.9: 5/5; topic 1.11: 4/4; topic 1.17: 5/5; topic 1.15: 3/4; topic 1.14: 5/5; topic 1.2: 5/5; topic 1.16: 2/2; topic 1.12: 4/4; topic 1.1.3: 5/5; topic 1.1.1: 5/5; topic 1.10.1: 5/5; topic 1.4.3: 1/1)\n",
                        "Mined relevant chunks\n"
                    ]
                },
                {
                    "name": "stderr",
                    "output_type": "stream",
                    "text": [
                        "\n"
                    ]
                }
            ],
            "source": [
                "question = \"What events are discussed?\"\n",
                "relevance_test_budget = 100 # How many relevance tests are permitted per query. Higher values may provide higher quality results at higher cost\n",
                "adjacent_search_steps = 1 # How many chunks before and after each relevant chunk to test, once the relevance test budget is near or the search process has terminted\n",
                "community_relevance_tests = 5 # How many relevance tests to run on each community in turn\n",
                "relevance_test_batch_size = 5 # How many relevance tests to run in parallel at a time\n",
                "community_ranking_chunks = 5 # How many chunks to use to rank communities by relevance\n",
                "irrelevant_community_restart = 3 # When to restart testing communities in relevance order\n",
                "\n",
                "# Mine relevant chunks to the question\n",
                "async def mine_relevant_chunks():\n",
                "    (\n",
                "        relevant_cids,\n",
                "        chunk_progress,\n",
                "    ) = await relevance_assessor.detect_relevant_chunks(\n",
                "        ai_configuration=ai_configuration,\n",
                "        question=question,\n",
                "        cid_to_text=cid_to_text,\n",
                "        cid_to_concepts=cid_to_concepts,\n",
                "        cid_to_vector=cid_to_vector,\n",
                "        hierarchical_communities=hierarchical_communities,\n",
                "        community_to_label=community_to_label,\n",
                "        previous_cid=previous_cid,\n",
                "        next_cid=next_cid,\n",
                "        embedder=text_embedder,\n",
                "        embedding_cache=CACHE_PATH,\n",
                "        select_logit_bias=5,\n",
                "        adjacent_search_steps=adjacent_search_steps,\n",
                "        community_ranking_chunks=community_ranking_chunks,\n",
                "        relevance_test_budget=relevance_test_budget,\n",
                "        community_relevance_tests=community_relevance_tests,\n",
                "        relevance_test_batch_size=relevance_test_batch_size,\n",
                "        irrelevant_community_restart=irrelevant_community_restart,\n",
                "    )\n",
                "    return relevant_cids, chunk_progress\n",
                "\n",
                "if __name__ == \"__main__\":\n",
                "    relevant_cids, chunk_progress = await mine_relevant_chunks()\n",
                "    print(f\"Mined relevant chunks\")\n",
                "    \n"
            ]
        },
        {
            "cell_type": "code",
            "execution_count": 164,
            "metadata": {},
            "outputs": [
                {
                    "name": "stdout",
                    "output_type": "stream",
                    "text": [
                        "Answered question\n"
                    ]
                }
            ],
            "source": [
                "answer_batch_size = 10 # How many chunks to integrate into the answer at a time\n",
                "# Generate an extended answer to the question, which could then be summarized\n",
                "(\n",
                "    partial_answers,\n",
                "    answer_progress,\n",
                ") = answer_builder.answer_question(\n",
                "    ai_configuration=ai_configuration,\n",
                "    question=question,\n",
                "    relevant_cids=relevant_cids,\n",
                "    cid_to_text=cid_to_text,\n",
                "    answer_batch_size=answer_batch_size,\n",
                ")\n",
                "print(f\"Answered question\")"
            ]
        },
        {
            "cell_type": "code",
            "execution_count": 165,
            "metadata": {},
            "outputs": [
                {
                    "name": "stdout",
                    "output_type": "stream",
                    "text": [
                        "**Chunks relevant/tested: 99/100** (topic 1: 5/5; topic 1.4: 5/5; topic 1.1: 5/5; topic 1.7: 5/5; topic 1.10: 5/5; topic 1.5: 5/5; topic 1.3: 5/5; topic 1.13: 4/4; topic 1.6: 5/5; topic 1.8: 5/5; topic 1.18: 1/1; topic 1.9: 5/5; topic 1.11: 4/4; topic 1.17: 5/5; topic 1.15: 3/4; topic 1.14: 5/5; topic 1.2: 5/5; topic 1.16: 2/2; topic 1.12: 4/4; topic 1.1.3: 5/5; topic 1.1.1: 5/5; topic 1.10.1: 5/5; topic 1.4.3: 1/1)\n",
                        "**Chunks referenced/relevant: 84/99** (answer 1: 10/10, answer 2: 8/10, answer 3: 9/10, answer 4: 8/10, answer 5: 9/10, answer 6: 9/10, answer 7: 9/10, answer 8: 9/10, answer 9: 7/10, answer 10: 6/9)\n"
                    ]
                }
            ],
            "source": [
                "# Output some process summarry information\n",
                "print(chunk_progress)\n",
                "print(answer_progress)"
            ]
        },
        {
            "cell_type": "code",
            "execution_count": 166,
            "metadata": {},
            "outputs": [
                {
                    "name": "stdout",
                    "output_type": "stream",
                    "text": [
                        "# A Review of Recent Notable Events\n",
                        "\n",
                        "*In response to: What events are discussed?*\n",
                        "\n",
                        "## Introduction\n",
                        "\n",
                        "This report provides a comprehensive overview of several significant events that have taken place recently, categorized into community, economic, sports, cultural, and environmental themes. \n",
                        "\n",
                        "**Community Events**\n",
                        "- Community Meeting at Greenwood Town Hall\n",
                        "- Community Center Hosts Successful Volunteer Fair\n",
                        "- Springfield Community Festival\n",
                        "- Mayoral Candidates Debate at City Hall\n",
                        "- Joint Effort for Community Betterment Launched\n",
                        "- Riverside Park Cleanup Drive: A Community Unites for the Environment\n",
                        "- Downtown Park Festival Kicks Off with a Grand Opening Ceremony\n",
                        "- Annual Charity Gala Raises Funds for Local Causes\n",
                        "- Hope Fundraiser Gala Raises Millions for Charity\n",
                        "- Regional Leaders Drive Community Engagement Efforts\n",
                        "- Main Street Comes Alive with Flavors: Community Cook-Off Raises Funds for Local Food Bank\n",
                        "- Helping Hands Hosts Valentine's Day Service Event\n",
                        "\n",
                        "**Economic Forums**\n",
                        "- Global Economic Forum in the Financial District\n",
                        "- Asian Economic Forum in Beijing\n",
                        "- World Economic Forum Tackles Global Market Challenges\n",
                        "- Strategies for Market Resilience Discussed at Economic Summit\n",
                        "- James Carter Addresses Global Leadership Forum in London\n",
                        "- Tech Innovators Conference Showcases Future Technologies in San Francisco\n",
                        "- European Economic Forum with Emphasis on Sustainable Growth\n",
                        "- Roundtable on Economic Policies Held in Delhi\n",
                        "- Trade Talks Begin at Parliament Building\n",
                        "- Global Economic Trends Discussed at IMF Meeting\n",
                        "- World Economic Forum Discusses Global Markets in New York City\n",
                        "- David Young Addresses Global Economic Challenges at World Economic Forum\n",
                        "\n",
                        "**Sports Events**\n",
                        "- National Finals at Mega Sports Complex\n",
                        "- NBA Finals: A Look Back\n",
                        "- Wimbledon Championships: A Historic Tournament\n",
                        "- Serena Michaels Triumphs at the Australian Open\n",
                        "- Basketball League Kicks Off Season at City Arena\n",
                        "- Premier League Highlights: A Season Recap\n",
                        "- Coach Alex Turner Gears Up for Championship Showdown\n",
                        "- Alex Turner Scores Winning Goal at National Championship\n",
                        "- Serena Blake Advances to Finals in Melbourne\n",
                        "- Federer Returns to Wimbledon: A Triumphant Comeback\n",
                        "- Coach Alex Smith Discusses Strategies for the Premier League's Upcoming Season\n",
                        "- Eagles Soar in Season Opener Against Hawks\n",
                        "- Serena Long Advances to US Open Finals After Thrilling Semi-Final Victory\n",
                        "\n",
                        "**Cultural and Artistic Events**\n",
                        "- Miami Spring Festival\n",
                        "- Chloe Reed's Art Workshop\n",
                        "- Music Festival Afterparty at Harmony Park\n",
                        "- Marcus Lee Wins Best Director at Prestigious Film Awards in Hollywood\n",
                        "- Nina Johnson Debuts New Film at City Festival\n",
                        "- Juan Lopez's New Film Premieres at Hollywood Gala\n",
                        "- Spring Fashion Week: Emerging Trends Take Center Stage\n",
                        "- Annual Music Festival Thrills Crowds at Sunset Park\n",
                        "- New Play Premieres at City Theater: A Captivating Evening\n",
                        "- Capturing the Beauty of Coastal Village with Emma Stone\n",
                        "- Spring Festival at Botanical Gardens: A Celebration of Nature\n",
                        "- James Lee Conducts Carla Gomez in Memorable Concert at the Grand Concert Hall\n",
                        "- Artists Sofia Martinez and John Doe to Lead Discussion at Modern Art Museum\n",
                        "- Chloe Reed Discusses Art with Curator Emily Jones at the Modern Art Museum\n",
                        "- Wine and Dine Event Unites Culinary Experts at Riverfront Plaza\n",
                        "- Hollywood Hosts Grand Film Premiere: A Night to Remember\n",
                        "- Cannes Film Festival Honors Emerging Filmmakers\n",
                        "- Independent Spirit Shines at Film Festival\n",
                        "- New Film by Rajiv Mehta Premieres at LA Festival\n",
                        "- Harmony Music Festival Draws Record Crowds at Harmony Park\n",
                        "- Classical Evening with Maria Lopez and John Kim: A Night to Remember\n",
                        "- Jazz Fest in New Orleans: A Musical Celebration\n",
                        "- Lucas Cole's New Film Premieres at Prestigious International Film Festival\n",
                        "- Barcelona Spring Festival Kicks Off with a Bang\n",
                        "\n",
                        "**Environmental Initiatives**\n",
                        "- Global Climate Action Forum in Berlin\n",
                        "- International Summit on Climate Change Concludes in Geneva\n",
                        "- Global Leaders Convene for Critical Climate Discussions at United Nations Summit\n",
                        "- Climate Summit in Sydney Addresses Global Challenges\n",
                        "- International Teams Bolster Relief in Bali\n",
                        "- Cape Town Conference Highlights Climate Challenges\n",
                        "- International Aid Bolsters Indonesian Relief Efforts\n",
                        "- Global Relief Network Rallies Support in Jakarta Following Natural Disaster\n",
                        "- International Summit on Climate Action Begins in Geneva\n",
                        "- UN Climate Summit Highlights Urgent Global Actions\n",
                        "- Global Leaders Convene for Climate Summit in Beijing\n",
                        "- Global Climate Forum Convenes in Sydney to Tackle Climate Change\n",
                        "- Health Impacts of Climate Change Discussed at United Nations Summit\n",
                        "\n",
                        "**Health and Wellness Events**\n",
                        "- Wellness Retreat Center Hosts Event to Promote Healthy Living\n",
                        "- Dr. Sarah Lee's Tips for a Healthier Lifestyle at the Wellness Expo\n",
                        "- Dr. Laura Bennett on the Benefits of Mindfulness\n",
                        "- Dr. Alan Smith Discusses New Health Trends at City Health Center\n",
                        "- Outdoor Fitness Classes to Start This Summer at City Park\n",
                        "- Health and Wellness Expo Comes to Chicago\n",
                        "- WHO Hosts Global Health Conference in Geneva\n",
                        "\n",
                        "**Educational and Policy Events**\n",
                        "- Boston Schools Celebrate Education Week\n",
                        "- Capital City Hosts Policy Debate on Education Reform\n",
                        "- Human Rights Conference Advocates for Change\n",
                        "\n",
                        "These events reflect a wide array of activities and initiatives, showcasing the dynamic nature of global and local communities.\n",
                        "\n",
                        "## Analysis\n",
                        "\n",
                        "### Community Meeting at Greenwood Town Hall\n",
                        "\n",
                        "On January 15, 2024, a pivotal community meeting was held at Greenwood Town Hall, led by Mayor Susan Park. The meeting aimed to engage residents in discussions about local development projects, including infrastructure improvements and housing developments. This event was organized by the Greenwood Community Board to ensure transparency and community involvement in shaping the town's future [source: news_articles_texts.csv_185 (1)].\n",
                        "\n",
                        "### Community Center Hosts Successful Volunteer Fair\n",
                        "\n",
                        "On March 5, 2023, the Community Center hosted a volunteer fair to promote local service organizations. Mayor Sarah Thompson attended, supporting the event's goal of fostering civic engagement. The fair highlighted various volunteer opportunities, encouraging community members to contribute positively to local initiatives [source: news_articles_texts.csv_167 (1)].\n",
                        "\n",
                        "### Springfield Community Festival\n",
                        "\n",
                        "Excitement is building in Springfield as Mayor Diane Martin announced the return of the Springfield Community Festival, set for April 10, 2023. This vibrant celebration of local culture and talent promises to be bigger and better than ever. The festival, organized by the Springfield Community Council, will feature local artists, craftsmen, food stalls, and live performances, highlighting the town's spirit and creativity [source: news_articles_texts.csv_66 (1)].\n",
                        "\n",
                        "### Mayoral Candidates Debate at City Hall\n",
                        "\n",
                        "On September 15, 2023, mayoral candidates debated at City Hall, presenting their platforms and addressing city issues. Incumbent Mayor Lisa Brown emphasized her administration's achievements, while opponents critiqued her policies. The debate, organized by the City Council, highlighted topics like housing, economic development, and sustainability, providing voters with clear choices [source: news_articles_texts.csv_447 (1)].\n",
                        "\n",
                        "### Riverside Park Cleanup Drive: A Community Unites for the Environment\n",
                        "\n",
                        "Riverside Park became the focal point of a community event on October 12, 2023, led by environmental activist Laura Green. The cleanup drive, organized by the Green Earth Initiative, drew local residents to rejuvenate the park. Participants collected litter and debris, enhancing the park's appearance and fostering community spirit. Laura Green emphasized the importance of local action in tackling global environmental challenges [source: news_articles_texts.csv_298 (1)].\n",
                        "\n",
                        "### Downtown Park Festival Kicks Off with a Grand Opening Ceremony\n",
                        "\n",
                        "The Downtown Park Festival began on November 4, 2023, with a grand opening ceremony led by Mayor Linda Park. The festival, organized by the City Council, features music performances, food stalls, and craft booths, celebrating local culture and community spirit. Mayor Park highlighted the festival's role in fostering unity and supporting small businesses [source: news_articles_texts.csv_434 (1)].\n",
                        "\n",
                        "### Annual Charity Gala Raises Funds for Local Causes\n",
                        "\n",
                        "The Annual Charity Gala, held on September 15, 2023, at the Community Hall, was a resounding success. Organized by the Charity Network, the event aimed to raise funds for various local causes. Led by Organizer Kevin Lee, the gala featured performances by local artists and a silent auction, creating an atmosphere of camaraderie and shared purpose. The funds raised will support educational programs, health initiatives, and community development projects, highlighting the power of community engagement [source: news_articles_texts.csv_238 (1)].\n",
                        "\n",
                        "### Hope Fundraiser Gala Raises Millions for Charity\n",
                        "\n",
                        "On March 15, 2024, the Hope Fundraiser Gala was held at the City Convention Center, hosted by philanthropist Linda Tran. The event successfully raised millions for various charitable initiatives, highlighting the power of community and generosity. Attendees enjoyed fine dining and entertainment, contributing to a noble cause [source: news_articles_texts.csv_197 (1)].\n",
                        "\n",
                        "### Regional Leaders Drive Community Engagement Efforts\n",
                        "\n",
                        "In a significant push to enhance community engagement across the Bay Area, Mayor John Doe and Councilwoman Jane Smith have joined forces to spearhead a series of outreach programs. This collaborative initiative aims to foster stronger community ties and address local needs through targeted activities and support. The Bay Area Community Outreach organization has been instrumental in facilitating this effort, ensuring that the programs are inclusive and impactful. These programs encompass a wide range of activities, including workshops, resource fairs, and volunteer opportunities, all designed to engage residents and encourage active participation in community life [source: news_articles_texts.csv_142 (1)].\n",
                        "\n",
                        "### Main Street Comes Alive with Flavors: Community Cook-Off Raises Funds for Local Food Bank\n",
                        "\n",
                        "The Community Cook-Off on Main Street was a vibrant event aimed at raising funds for the Local Food Bank. Local chefs, including Chef Antonio Rossi, showcased their skills in a friendly competition that highlighted both creativity and community spirit. The event featured a variety of dishes judged on taste, presentation, and originality, and was organized to support the Local Food Bank's mission of providing meals to those in need. The cook-off not only raised significant funds but also strengthened community bonds [source: news_articles_texts.csv_448 (1)].\n",
                        "\n",
                        "### Helping Hands Hosts Valentine's Day Service Event\n",
                        "\n",
                        "On February 14, 2023, the Downtown Community Center hosted a Valentine's Day service event organized by Helping Hands. Led by volunteer Anna Lopez, the event aimed to support local families in need through activities such as food distribution, financial literacy workshops, and a clothing drive. The event highlighted the power of community service and the impact of collective efforts to uplift those in need [source: news_articles_texts.csv_486 (1)].\n",
                        "\n",
                        "### Global Economic Forum in the Financial District\n",
                        "\n",
                        "The Global Economic Forum took place on March 21, 2024, in the Financial District, gathering economists and global leaders to discuss future economic trends. Key topics included technological advancements, sustainable economic policies, and the impacts of climate change on economic stability [source: news_articles_texts.csv_179 (1)].\n",
                        "\n",
                        "### Asian Economic Forum in Beijing\n",
                        "\n",
                        "Held on March 28, 2023, the Asian Economic Forum in Beijing focused on regional cooperation among Asian nations. President Lin Wei emphasized the importance of collaboration in addressing economic challenges and fostering sustainable growth [source: news_articles_texts.csv_94 (1)].\n",
                        "\n",
                        "### World Economic Forum Tackles Global Market Challenges\n",
                        "\n",
                        "The World Economic Forum in Davos, held on January 10, 2023, brought together leaders to address global market challenges. Economist Jane Wu highlighted the need for sustainable practices and innovative policies to drive economic resilience. The forum served as a platform for discussing economic stability amid geopolitical tensions and environmental concerns [source: news_articles_texts.csv_371 (1)].\n",
                        "\n",
                        "### Strategies for Market Resilience Discussed at Economic Summit\n",
                        "\n",
                        "At the International Economic Summit on January 5, 2024, economist Robert Liu presented strategies for enhancing market resilience. Liu emphasized adaptive policy frameworks and sustainable investment practices as crucial for building robust economies. The summit underscored the importance of international cooperation in achieving economic stability [source: news_articles_texts.csv_183 (1)].\n",
                        "\n",
                        "### James Carter Addresses Global Leadership Forum in London\n",
                        "\n",
                        "On April 1, 2023, political analyst James Carter addressed the Global Leadership Forum in London, discussing emerging global trends in international politics. Carter emphasized the increasing role of technology in governance, shifting alliances, and the importance of sustainable development. His insights sparked vibrant discussions among attendees from various sectors [source: news_articles_texts.csv_325 (1)].\n",
                        "\n",
                        "### Tech Innovators Conference Showcases Future Technologies in San Francisco\n",
                        "\n",
                        "The Tech Innovators Conference, held on July 30, 2023, in San Francisco, attracted industry leaders and technology enthusiasts. The event showcased cutting-edge technologies, including artificial intelligence and sustainable energy solutions. Elena Russo, a prominent figure in the tech community, delivered a keynote address emphasizing responsible innovation. The conference reinforced San Francisco's status as a global hub for innovation [source: news_articles_texts.csv_15 (1)].\n",
                        "\n",
                        "### European Economic Forum with Emphasis on Sustainable Growth\n",
                        "\n",
                        "On June 12, 2023, Chancellor Angela Schmidt opened the European Economic Forum in Berlin, emphasizing sustainable growth. The forum gathered leaders to discuss economic challenges and strategies for balancing growth with environmental stewardship, setting a tone of urgency and cooperation [source: news_articles_texts.csv_151 (1)].\n",
                        "\n",
                        "### Roundtable on Economic Policies Held in Delhi\n",
                        "\n",
                        "On August 5, 2023, a significant roundtable discussion was held in Delhi, bringing together representatives from the International Monetary Fund (IMF) and the World Bank to discuss India's economic policies. Deputy Finance Minister Neha Singh articulated India's economic priorities, emphasizing collaboration with global financial institutions to address challenges such as inflation and sustainable development. The event underscored India's role in the global economic landscape and the importance of international cooperation [source: news_articles_texts.csv_203 (1)].\n",
                        "\n",
                        "### Trade Talks Begin at Parliament Building\n",
                        "\n",
                        "On September 30, 2023, Prime Minister Lena Kim inaugurated a new round of trade discussions at the Parliament Building, aiming to strengthen global trading partnerships. Organized by the International Trade Council, the talks focus on topics such as tariffs and sustainable development. Prime Minister Kim emphasized collaboration and flexibility, highlighting the importance of these discussions in building a prosperous future [source: news_articles_texts.csv_230 (1)].\n",
                        "\n",
                        "### Global Economic Trends Discussed at IMF Meeting\n",
                        "\n",
                        "On July 10, 2023, leading economists gathered at the Global Conference Center for an IMF meeting to discuss global economic trends. Economist Sarah Lee highlighted the importance of understanding macroeconomic indicators and their impact on international markets. The meeting served as a platform for proposing solutions to enhance economic stability and growth, emphasizing the interconnectedness of global economies [source: news_articles_texts.csv_450 (1)].\n",
                        "\n",
                        "### World Economic Forum Discusses Global Markets in New York City\n",
                        "\n",
                        "On April 3, 2023, the World Economic Forum convened in New York City to discuss the evolving landscape of global markets. The event featured prominent economists and financial experts, including Dr. Alan Greene, who emphasized the importance of international collaboration to navigate economic challenges such as inflation and supply chain disruptions. The forum also explored the role of emerging technologies in reshaping economic paradigms, highlighting digital currencies and artificial intelligence [source: news_articles_texts.csv_97 (1)].\n",
                        "\n",
                        "### David Young Addresses Global Economic Challenges at World Economic Forum\n",
                        "\n",
                        "On July 2, 2023, Economist David Young addressed the World Economic Forum at the International Conference Center, focusing on global economic challenges. Young emphasized the need for international cooperation and robust policy frameworks to tackle issues like inflation and supply chain disruptions. His call for collaborative efforts resonated with attendees, highlighting the forum's role in shaping global economic policy [source: news_articles_texts.csv_360 (1)].\n",
                        "\n",
                        "### National Finals at Mega Sports Complex\n",
                        "\n",
                        "The National Basketball League finals took place on September 30, 2023, at the Mega Sports Complex. Under Coach Tom Williams, the event was a thrilling culmination of the season, showcasing top teams and celebrating sportsmanship and dedication [source: news_articles_texts.csv_436 (1)].\n",
                        "\n",
                        "### NBA Finals: A Look Back\n",
                        "\n",
                        "The NBA Finals of June 5, 2023, were a thrilling series that captivated fans worldwide. Basketball analyst Michael Brown highlighted key performances and strategies that defined the games. The Finals were celebrated as a showcase of athletic prowess and strategic brilliance, leaving fans eager for the next season [source: news_articles_texts.csv_273 (1)].\n",
                        "\n",
                        "### Wimbledon Championships: A Historic Tournament\n",
                        "\n",
                        "The Wimbledon Championships of June 20, 2023, were marked by thrilling matches and unforgettable moments. The tournament, organized by the International Tennis Federation, showcased extraordinary talent and fierce competition. Serena Thompson reported on standout performances, with both seasoned champions and rising stars making their mark [source: news_articles_texts.csv_279 (1)].\n",
                        "\n",
                        "### Serena Michaels Triumphs at the Australian Open\n",
                        "\n",
                        "On March 26, 2023, Serena Michaels won the Australian Open, adding another Grand Slam title to her career. Her victory in Melbourne was celebrated as a testament to her skill and dedication, inspiring the next generation of tennis players [source: news_articles_texts.csv_93 (1)].\n",
                        "\n",
                        "### Basketball League Kicks Off Season at City Arena\n",
                        "\n",
                        "The Basketball League's new season began on October 18, 2023, at City Arena, with fans eagerly watching their favorite teams. Coach Linda Baker, known for her strategic prowess, expressed excitement for the season. The league is a staple in the sports community, promising thrilling games and intense rivalries [source: news_articles_texts.csv_235 (1)].\n",
                        "\n",
                        "### Premier League Highlights: A Season Recap\n",
                        "\n",
                        "The Premier League season, concluded on July 20, 2023, was filled with thrilling moments and unexpected victories. Sports journalist Alex Johnson provided an in-depth review of the season's highlights, emphasizing the league's competitive spirit and world-class talent. The season was marked by last-minute goals and standout performances, solidifying the Premier League's reputation as a premier soccer competition [source: news_articles_texts.csv_267 (1)].\n",
                        "\n",
                        "### Coach Alex Turner Gears Up for Championship Showdown\n",
                        "\n",
                        "Coach Alex Turner is preparing for the upcoming football championship match at the National Stadium, a highlight of the National Football League season. Known for his strategic prowess, Turner emphasized adaptability and resilience in his approach. The championship promises high stakes and fierce competition, with fans eagerly anticipating the tactical display [source: news_articles_texts.csv_186 (1)].\n",
                        "\n",
                        "### Alex Turner Scores Winning Goal at National Championship\n",
                        "\n",
                        "In a breathtaking display of skill, Player Alex Turner secured his team's victory at the national football championship with a decisive goal. The match, organized by the Football Federation, was a thrilling encounter that kept spectators on the edge of their seats. Turner's performance not only earned his team the championship title but also solidified his reputation as a standout player. The event highlighted the importance of such competitions in promoting football and inspiring future generations [source: news_articles_texts.csv_347 (1)].\n",
                        "\n",
                        "### Serena Blake Advances to Finals in Melbourne\n",
                        "\n",
                        "On April 10, 2023, tennis star Serena Blake advanced to the finals of Melbourne's Grand Slam tournament. Her performance was marked by skill and determination, earning her a place in the finals and drawing attention as a rising star in the tennis world. The Grand Slam Association praised her performance, highlighting her potential to claim the Grand Slam title [source: news_articles_texts.csv_393 (1)].\n",
                        "\n",
                        "### Federer Returns to Wimbledon: A Triumphant Comeback\n",
                        "\n",
                        "On September 5, 2023, Roger Federer made a triumphant return to Wimbledon, captivating fans with his skillful play. His comeback was met with enthusiasm, highlighting his enduring appeal in the tennis world. Federer's performance at Wimbledon adds another exciting chapter to his legendary career, drawing attention from tennis enthusiasts worldwide [source: news_articles_texts.csv_138 (1)].\n",
                        "\n",
                        "### Eagles Soar in Season Opener Against Hawks\n",
                        "\n",
                        "On September 1, 2023, the National Football League season opener saw the Eagles, led by Coach Linda Harris, face off against the Hawks at Stadium A. The match was a thrilling display of skill and strategy, with the Eagles showcasing their prowess under Harris's leadership. The game set a high benchmark for the season, promising more exciting encounters [source: news_articles_texts.csv_287 (1)].\n",
                        "\n",
                        "### Serena Long Advances to US Open Finals After Thrilling Semi-Final Victory\n",
                        "\n",
                        "On September 11, 2023, Serena Long secured her place in the US Open finals in New York City after a gripping semi-final match. Her performance was marked by resilience and skill, captivating tennis fans and setting the stage for an exciting final showdown [source: news_articles_texts.csv_473 (1)].\n",
                        "\n",
                        "### Miami Spring Festival\n",
                        "\n",
                        "The Miami Spring Festival, held on May 5, 2023, is an annual cultural event celebrating art, music, and food. Organized by the Miami Festival Committee, it highlights the city's diverse cultural tapestry through various events and activities [source: news_articles_texts.csv_278 (1)].\n",
                        "\n",
                        "### Chloe Reed's Art Workshop\n",
                        "\n",
                        "On May 19, 2023, artist Chloe Reed and instructor Laura Kim hosted an art workshop at the Art Academy. The event, organized by the Creative Arts Foundation, aimed to inspire and educate emerging artists through hands-on activities and expert guidance [source: news_articles_texts.csv_344 (1)].\n",
                        "\n",
                        "### Music Festival Afterparty at Harmony Park\n",
                        "\n",
                        "On December 2, 2022, Harmony Park hosted a music festival afterparty featuring DJ Alex Groove and Luna Star. Organized by the Harmony Music Collective, the event was a celebration of music and community, providing an electrifying conclusion to the festival [source: news_articles_texts.csv_163 (1)].\n",
                        "\n",
                        "### Marcus Lee Wins Best Director at Prestigious Film Awards in Hollywood\n",
                        "\n",
                        "On September 15, 2023, Marcus Lee won Best Director at a prestigious film awards ceremony in Hollywood. His latest film, praised for its innovative storytelling, was produced by Cinemagic Productions. Lee's win highlights his influence in the film industry and the creative talents shaping cinema's future [source: news_articles_texts.csv_489 (1)].\n",
                        "\n",
                        "### Nina Johnson Debuts New Film at City Festival\n",
                        "\n",
                        "Director Nina Johnson premiered her latest film at the City Festival on June 24, 2023. The event, organized by the Film Arts Council, drew film enthusiasts and critics eager to see Johnson's work. Known for compelling narratives, Johnson's film was met with applause and positive reviews [source: news_articles_texts.csv_356 (1)].\n",
                        "\n",
                        "### Juan Lopez's New Film Premieres at Hollywood Gala\n",
                        "\n",
                        "Director Juan Lopez premiered his latest film at the Hollywood Film Society's gala on April 8, 2023. The event was a star-studded affair, celebrating Lopez's unique storytelling and directorial prowess. The film's premiere highlighted Lopez's significant influence in contemporary cinema [source: news_articles_texts.csv_391 (1)].\n",
                        "\n",
                        "### Spring Fashion Week: Emerging Trends Take Center Stage\n",
                        "\n",
                        "Spring Fashion Week, held on March 20, 2023, showcased emerging trends and designers, including Chloe Kim's innovative collection. The event, organized by the Fashion Council, emphasized sustainability and creativity, setting the tone for the upcoming fashion season [source: news_articles_texts.csv_375 (1)].\n",
                        "\n",
                        "### Annual Music Festival Thrills Crowds at Sunset Park\n",
                        "\n",
                        "On October 20, 2023, Sunset Park hosted the annual music festival organized by Music Fest Inc. The event featured diverse musical acts and highlighted DJ Luna's electrifying performance. The festival celebrated live music and community, drawing a large and enthusiastic crowd [source: news_articles_texts.csv_446 (1)].\n",
                        "\n",
                        "### Harmony Music Festival Draws Record Crowds at Harmony Park\n",
                        "\n",
                        "On November 30, 2022, Harmony Park hosted the Harmony Music Festival, drawing record crowds with its diverse lineup of musical performances. Organized by the Harmony Music Collective, the festival celebrated music and community, featuring artists like DJ Alex Groove. The event's success highlights the community's enthusiasm for live music and cultural experiences [source: news_articles_texts.csv_33 (1)].\n",
                        "\n",
                        "### Capturing the Beauty of Coastal Village with Emma Stone\n",
                        "\n",
                        "Travel Blogger Emma Stone and photographer Liam explored Coastal Village on April 5, 2023, capturing its scenic beauty and local culture. Their project, supported by the Adventure Travel Group, aims to showcase the village's charm through visuals and narratives, bringing attention to this picturesque destination [source: news_articles_texts.csv_104 (1)].\n",
                        "\n",
                        "### Spring Festival at Botanical Gardens: A Celebration of Nature\n",
                        "\n",
                        "The Spring Festival at the Botanical Gardens, held on April 5, 2024, celebrated the beauty of spring with workshops and guided tours. Organized by the Green Thumb Society, the event featured renowned Gardener Lily Bloom, who shared sustainable gardening techniques. The festival fostered a deeper appreciation for the environment and inspired participants to apply their newfound knowledge [source: news_articles_texts.csv_180 (1)].\n",
                        "\n",
                        "### James Lee Conducts Carla Gomez in Memorable Concert at the Grand Concert Hall\n",
                        "\n",
                        "On January 5, 2024, a memorable concert took place at the Grand Concert Hall, featuring Carla Gomez and conducted by James Lee. The event, a blend of classical and contemporary music, showcased exceptional musical artistry and received a standing ovation from the audience [source: news_articles_texts.csv_422 (1)].\n",
                        "\n",
                        "### Artists Sofia Martinez and John Doe to Lead Discussion at Modern Art Museum\n",
                        "\n",
                        "On March 7, 2023, artists Sofia Martinez and John Doe led a discussion on contemporary art trends at the Modern Art Museum in New York City. The event highlighted their innovative approaches and engaged the audience in a lively exchange of ideas [source: news_articles_texts.csv_321 (1)].\n",
                        "\n",
                        "### Chloe Reed Discusses Art with Curator Emily Jones at the Modern Art Museum\n",
                        "\n",
                        "On May 17, 2023, Chloe Reed and Curator Emily Jones engaged in a public discussion at the Modern Art Museum. The event explored contemporary art's evolution and its cultural impact, fostering dialogue and appreciation for artistic innovation [source: news_articles_texts.csv_342 (1)].\n",
                        "\n",
                        "### Wine and Dine Event Unites Culinary Experts at Riverfront Plaza\n",
                        "\n",
                        "On August 12, 2023, the Wine and Dine event at Riverfront Plaza brought together culinary experts to showcase food and wine pairings. Chefs Maria Lopez and Ana Torres dazzled attendees with their innovative dishes, highlighting culinary excellence [source: news_articles_texts.csv_364 (1)].\n",
                        "\n",
                        "### Hollywood Hosts Grand Film Premiere: A Night to Remember\n",
                        "\n",
                        "The glitz and glamour of Hollywood were on full display during a much-anticipated film premiere. The event drew stars and fans to Hollywood Boulevard, creating an electric atmosphere. Among the attendees was Emma Stone, whose presence added sparkle to the evening. The premiere was a significant occasion for the film industry, with members of the Film Critics Circle in attendance. The event underscored Hollywood's enduring allure and its role as a beacon of creativity in cinema [source: news_articles_texts.csv_140 (1)].\n",
                        "\n",
                        "### Cannes Film Festival Honors Emerging Filmmakers\n",
                        "\n",
                        "The Cannes Film Festival spotlighted the talents of emerging filmmakers, emphasizing innovative voices in the industry. Director Anna Kim was among the honorees, recognized for her creativity and originality. The festival continues its tradition of encouraging artistic exploration and innovation, highlighting the power of film to inspire and challenge. This year's celebration underscored the importance of supporting creative endeavors and elevating diverse voices in film [source: news_articles_texts.csv_20 (1)].\n",
                        "\n",
                        "### Independent Spirit Shines at Film Festival\n",
                        "\n",
                        "The Film Society's annual Film Festival celebrated independent cinema, showcasing a diverse array of films. Director Maya Lin's latest work captivated audiences, exemplifying the creativity and dedication found in the independent film community. The festival serves as a platform for emerging filmmakers to showcase their work alongside established names, highlighting the talent within the independent film sector and the importance of cultural events in enriching the community [source: news_articles_texts.csv_374 (1)].\n",
                        "\n",
                        "### New Film by Rajiv Mehta Premieres at LA Festival\n",
                        "\n",
                        "On May 10, 2023, Director Rajiv Mehta premiered his new film at the Los Angeles Film Festival, receiving rave reviews. The film captivated audiences and critics with its innovative storytelling and profound themes, positioning it as a potential highlight of the year. Mehta's work continues to earn international recognition for its evocative and thought-provoking nature [source: news_articles_texts.csv_208 (1)].\n",
                        "\n",
                        "### Classical Evening with Maria Lopez and John Kim: A Night to Remember\n",
                        "\n",
                        "On December 20, 2023, the City Symphony Orchestra presented an enchanting evening of classical music at Symphony Hall, led by Conductor Maria Lopez and Violinist John Kim. The event showcased the timeless beauty of classical compositions, with Lopez's dynamic conducting and Kim's emotive playing captivating the audience. The performance was a testament to the exceptional artistry of both musicians and the cultural significance of the Symphony Hall [source: news_articles_texts.csv_282 (1)].\n",
                        "\n",
                        "### Jazz Fest in New Orleans: A Musical Celebration\n",
                        "\n",
                        "On August 20, 2023, New Orleans hosted its annual Jazz Fest, celebrating the city's rich musical heritage. The festival featured a diverse lineup of artists and paid tribute to legendary musicians, drawing music lovers from around the world [source: news_articles_texts.csv_275 (1)].\n",
                        "\n",
                        "### Lucas Cole's New Film Premieres at Prestigious International Film Festival\n",
                        "\n",
                        "On July 19, 2023, Director Lucas Cole premiered his latest film at the International Film Festival, captivating audiences with his visionary storytelling. The film is expected to be a strong contender in the upcoming awards season [source: news_articles_texts.csv_438 (1)].\n",
                        "\n",
                        "### Barcelona Spring Festival Kicks Off with a Bang\n",
                        "\n",
                        "On April 6, 2023, the Barcelona Spring Festival began with vibrant parades and performances, celebrating the city's cultural diversity. Organized by the Barcelona City Council, the festival promises a week of activities that highlight local and international talents [source: news_articles_texts.csv_389 (1)].\n",
                        "\n",
                        "### Global Climate Action Forum in Berlin\n",
                        "\n",
                        "The Global Climate Action Forum began on March 15, 2023, in Berlin, focusing on environmental challenges and climate change solutions. Organized by the Green Earth Initiative, the forum brought together leaders and activists to strategize on sustainable practices [source: news_articles_texts.csv_214 (1)].\n",
                        "\n",
                        "### Global Leaders Convene for Critical Climate Discussions at United Nations Summit\n",
                        "\n",
                        "On June 1, 2023, world leaders convened at a United Nations summit to address climate change. The event aimed to devise global strategies to mitigate environmental crises. The summit emphasized international cooperation as essential in tackling climate change, setting the tone for future environmental policies [source: news_articles_texts.csv_345 (1)].\n",
                        "\n",
                        "### Climate Summit in Sydney Addresses Global Challenges\n",
                        "\n",
                        "The Climate Summit in Sydney on June 12, 2023, focused on sustainable solutions to environmental challenges. Led by Dr. Leo White, the summit emphasized international cooperation and unveiled initiatives to enhance global environmental efforts [source: news_articles_texts.csv_315 (1)].\n",
                        "\n",
                        "### International Teams Bolster Relief in Bali\n",
                        "\n",
                        "Following a devastating earthquake in Bali, international relief efforts have intensified. Dr. Emily Chen and the Global Relief Network are leading efforts to rebuild infrastructure and provide essential services, highlighting the resilience of the Balinese people [source: news_articles_texts.csv_121 (1)].\n",
                        "\n",
                        "### Cape Town Conference Highlights Climate Challenges\n",
                        "\n",
                        "In December 2022, the Global Climate Initiative organized a conference in Cape Town to address climate challenges. Experts discussed renewable energy, conservation, and the impact of climate change on vulnerable communities. The event emphasized international cooperation and the need for transformative policies [source: news_articles_texts.csv_30 (1)].\n",
                        "\n",
                        "### International Aid Bolsters Indonesian Relief Efforts\n",
                        "\n",
                        "Following a devastating earthquake in Indonesia, international aid has been crucial in relief efforts. Organizations like the Global Relief Network and UNICEF are providing essential supplies and medical assistance. The Indonesian government has expressed gratitude for the support, which is vital for recovery [source: news_articles_texts.csv_2 (1)].\n",
                        "\n",
                        "### Global Relief Network Rallies Support in Jakarta Following Natural Disaster\n",
                        "\n",
                        "Following a natural disaster in Jakarta on April 14, 2023, the Global Relief Network has been actively coordinating relief operations. Led by Aid Worker Emily Johnson, the organization focuses on providing immediate relief through food, water, and medical supplies. The effort highlights the resilience of the affected communities and the importance of international support [source: news_articles_texts.csv_397 (1)].\n",
                        "\n",
                        "### International Summit on Climate Action Begins in Geneva\n",
                        "\n",
                        "The International Summit on Climate Action commenced in Geneva, bringing together world leaders, environmental experts, and activists to deliberate on strategies to combat climate change. Hosted by the Green Future Coalition, the summit addresses pressing environmental issues such as carbon emissions and renewable energy solutions. The event takes place at a pivotal time when concerns about climate change are escalating, aiming to forge a unified path forward [source: news_articles_texts.csv_485 (1)].\n",
                        "\n",
                        "### UN Climate Summit Highlights Urgent Global Actions\n",
                        "\n",
                        "The United Nations Climate Summit in Geneva focused on addressing the escalating climate crisis. Key speakers, including Dr. Susan Green, emphasized the need for immediate strategies to reduce global carbon emissions. The summit highlighted the urgency of climate-related disasters and the importance of collaborative efforts to enhance renewable energy adoption and support vulnerable communities. The outcomes of this summit could shape global climate efforts in the years to come [source: news_articles_texts.csv_465 (1)].\n",
                        "\n",
                        "### Global Leaders Convene for Climate Summit in Beijing\n",
                        "\n",
                        "On April 1, 2023, world leaders gathered in Beijing for a United Nations climate summit to address climate change. The summit focused on formulating strategies to combat environmental challenges, with sessions on renewable energy and green technologies. Prime Minister Liu Wei emphasized the need for international cooperation to secure a sustainable future [source: news_articles_texts.csv_145 (1)].\n",
                        "\n",
                        "### Global Climate Forum Convenes in Sydney to Tackle Climate Change\n",
                        "\n",
                        "On March 14, 2022, the Global Climate Forum in Sydney gathered experts to address climate change challenges. Dr. Nia Wallace and other attendees discussed carbon reduction strategies and renewable energy advancements. The forum aimed to inspire innovative solutions and encourage global cooperation to mitigate climate change impacts [source: news_articles_texts.csv_51 (1)].\n",
                        "\n",
                        "### Health Impacts of Climate Change Discussed at United Nations Summit\n",
                        "\n",
                        "On November 11, 2023, a summit at the United Nations Headquarters addressed the health impacts of climate change. Organized with the World Health Organization, the event highlighted issues like vector-borne diseases and food security. Secretary Jane Doe emphasized the need for integrating health considerations into climate policies, marking a significant step towards a coordinated global response [source: news_articles_texts.csv_442 (1)].\n",
                        "\n",
                        "### Wellness Retreat Center Hosts Event to Promote Healthy Living\n",
                        "\n",
                        "The Wellness Retreat Center, in collaboration with the Healthy Living Institute, hosted an event on May 1, 2023, to promote healthy living. Dr. Emily Waters, a wellness expert, emphasized holistic health and the benefits of balance, nutrition, and mindfulness. The retreat offered yoga, meditation, and nutrition workshops, inspiring participants to incorporate wellness practices into their routines [source: news_articles_texts.csv_169 (1)].\n",
                        "\n",
                        "### Dr. Sarah Lee's Tips for a Healthier Lifestyle at the Wellness Expo\n",
                        "\n",
                        "At the Wellness Expo on June 7, 2023, Dr. Sarah Lee shared insights on leading a healthier lifestyle. Hosted by the Health and Wellness Association, the event focused on balance in daily life, covering topics like nutrition and stress management. Dr. Lee's practical tips encouraged attendees to make small, impactful changes for better health [source: news_articles_texts.csv_348 (1)].\n",
                        "\n",
                        "### Dr. Laura Bennett on the Benefits of Mindfulness\n",
                        "\n",
                        "Dr. Laura Bennett, an expert in mental health, presented on the benefits of mindfulness at the Wellness Center on August 18, 2022. Organized by the Healthy Living Institute, the event highlighted mindfulness as a scientifically-backed method to enhance well-being. Dr. Bennett's engaging discussion provided attendees with practical tools to integrate mindfulness into their lives [source: news_articles_texts.csv_110 (1)].\n",
                        "\n",
                        "### Dr. Alan Smith Discusses New Health Trends at City Health Center\n",
                        "\n",
                        "On February 5, 2024, Dr. Alan Smith discussed new health trends at the City Health Center, emphasizing holistic wellness and personalized health plans. The event highlighted the shift towards integrating mental, physical, and emotional well-being in healthcare [source: news_articles_texts.csv_189 (1)].\n",
                        "\n",
                        "### Outdoor Fitness Classes to Start This Summer at City Park\n",
                        "\n",
                        "Health Alliance is launching outdoor fitness classes at City Park, led by fitness expert Dr. Emily Tran. These classes aim to promote healthier living and cater to various fitness levels. Held in the picturesque setting of City Park, the classes offer a variety of workouts designed to enhance physical health and promote community. This initiative is part of Health Alliance's efforts to make fitness accessible and enjoyable for everyone [source: news_articles_texts.csv_484 (1)].\n",
                        "\n",
                        "### Health and Wellness Expo Comes to Chicago\n",
                        "\n",
                        "On October 5, 2023, Chicago hosted the annual Health and Wellness Expo, focusing on modern lifestyle changes. Dr. Emily Green, a keynote speaker, emphasized the impact of small, sustainable changes on overall well-being. The event featured workshops on nutrition, exercise, and mental health, promoting a holistic approach to health [source: news_articles_texts.csv_409 (1)].\n",
                        "\n",
                        "### WHO Hosts Global Health Conference in Geneva\n",
                        "\n",
                        "On November 20, 2023, the World Health Organization hosted its annual health conference in Geneva, bringing together experts to address global health challenges. The event focused on emerging health trends and the integration of AI in healthcare [source: news_articles_texts.csv_156 (1)].\n",
                        "\n",
                        "### Boston Schools Celebrate Education Week\n",
                        "\n",
                        "On April 17, 2023, Boston's schools celebrated Education Week, organized by the Boston School District. The event featured student showcases and teacher recognition ceremonies, highlighting educational achievements and fostering community engagement [source: news_articles_texts.csv_400 (1)].\n",
                        "\n",
                        "### Capital City Hosts Policy Debate on Education Reform\n",
                        "\n",
                        "On December 4, 2022, Capital City hosted a policy debate on education reform, organized by the Capital Policy Institute. The event focused on curriculum updates, funding disparities, and technology integration, emphasizing collaboration for educational improvement [source: news_articles_texts.csv_39 (1)].\n",
                        "\n",
                        "### Human Rights Conference Advocates for Change\n",
                        "\n",
                        "On July 5, 2023, the Human Rights Conference at Human Rights Plaza featured a keynote by Activist Nadia Ali, calling for decisive action on human rights issues. Organized by Global Rights Watch, the event fostered dialogue on freedom of expression and refugee rights, emphasizing unity and collective action in the fight for justice [source: news_articles_texts.csv_377 (1)].\n",
                        "\n",
                        "## Conclusion\n",
                        "\n",
                        "The events discussed in this report highlight a diverse range of activities and initiatives across different sectors. From community engagement and economic discussions to sports celebrations and cultural festivals, each event reflects a commitment to progress and collaboration. These gatherings not only address current challenges but also pave the way for future developments, emphasizing the importance of community involvement, economic cooperation, cultural expression, and environmental responsibility. The inclusion of new events such as the Eagles' season opener, Serena Long's advancement in the US Open, and the WHO Global Health Conference further enriches the narrative of global and local efforts towards a sustainable and inclusive future.\n",
                        "\n",
                        "\n"
                    ]
                }
            ],
            "source": [
                "# Output the final extended answer\n",
                "final_answer = partial_answers[-1]\n",
                "print(final_answer)"
            ]
        }
    ],
    "metadata": {
        "kernelspec": {
            "display_name": ".venv",
            "language": "python",
            "name": "python3"
        },
        "language_info": {
            "codemirror_mode": {
                "name": "ipython",
                "version": 3
            },
            "file_extension": ".py",
            "mimetype": "text/x-python",
            "name": "python",
            "nbconvert_exporter": "python",
            "pygments_lexer": "ipython3",
            "version": "3.11.9"
        }
    },
    "nbformat": 4,
    "nbformat_minor": 2
}
