{
    "cells": [
        {
            "cell_type": "markdown",
            "metadata": {},
            "source": [
                "# Query Text Data workflow with \"Lazy GraphRAG\" retrieval mechanism\n",
                "\n",
                "Vector-based semantic search is a \"best first\" search approach for relevant chunks - it simply takes the top k most similar chunks based on embedding distances. It has no sense of the breadth of semantic content in the dataset.\n",
                "Full [GraphRAG](https://aka.ms/graphrag) is a \"breadth first\" search approach for relevant content in community summaries - it always queries each community. It has no sense of which communities are best.\n",
                "ming rapid relevance tests on these summaries in rank order to confirm that only the best community summaries from across the breadth of the dataset are used for answer generation.\n",
                "\n",
                "Lazy GraphRAG requires no summarization-based index (which is expensive, especially if the user only has a few queries). Instead, it relies purely on an embedding-based index for input text chunks (cheap, fast) augmented by the concept graph of noun-phrase cooccurrences extracted from these chunks (free, fast). It works as follows:\n",
                "\n",
                "- Given a query, text chunks are ranked using vector-based semantic search.\n",
                "- Chunk rankings are used to determine community rankings in the concept graph.\n",
                "- In community rank order, the top k chunks are subject to a rapid relevant test (cheap, fast). If relevant chunks are found, the community is retained, otherwise it is discarded.\n",
                "- After n communities fail to return any relevant chunks, the \"iterative narrowing\" process repeats with remaining communities in rank order.\n",
                "- The process terminates when no more testable chunks exist or a predefined testing budget is reached (e.g., 100 relevance tests).\n",
                "\n",
                "The advantages of this approach include:\n",
                "\n",
                "- A balance of best-first (semantic search) and breadth-first (community structure) approaches for any testing budget\n",
                "- Very fast and almost free - suitable for one-off and exploratory queries before committing to a full indexing\n",
                "- Easily accommodates dynamic contexts where new texts/chunks are streaming in to the dataset (supported in the current implementation)\n",
                "- Provides a consistent level of \"effort\" for a fixed test budget, providing various standards of answers to questions (e.g., global questions) for which there is no ground truth (e.g., 1000 chunks = gold standard, 500 chunks = silver standard, 100 chunks = bronze standard, etc.)\n"
            ]
        },
        {
            "cell_type": "code",
            "execution_count": 1,
            "metadata": {},
            "outputs": [],
            "source": [
                "import sys\n",
                "\n",
                "sys.path.append(\"..\")"
            ]
        },
        {
            "cell_type": "code",
            "execution_count": 2,
            "metadata": {},
            "outputs": [
                {
                    "name": "stderr",
                    "output_type": "stream",
                    "text": [
                        "c:\\Users\\daedge\\AppData\\Local\\pypoetry\\Cache\\virtualenvs\\intelligence-toolkit-lXFNld9n-py3.11\\Lib\\site-packages\\tqdm\\auto.py:21: TqdmWarning: IProgress not found. Please update jupyter and ipywidgets. See https://ipywidgets.readthedocs.io/en/stable/user_install.html\n",
                        "  from .autonotebook import tqdm as notebook_tqdm\n",
                        "[nltk_data] Downloading package brown to\n",
                        "[nltk_data]     C:\\Users\\daedge\\AppData\\Roaming\\nltk_data...\n",
                        "[nltk_data]   Package brown is already up-to-date!\n",
                        "[nltk_data] Downloading package punkt to\n",
                        "[nltk_data]     C:\\Users\\daedge\\AppData\\Roaming\\nltk_data...\n",
                        "[nltk_data]   Package punkt is already up-to-date!\n",
                        "[nltk_data] Downloading package punkt_tab to\n",
                        "[nltk_data]     C:\\Users\\daedge\\AppData\\Roaming\\nltk_data...\n",
                        "[nltk_data]   Package punkt_tab is already up-to-date!\n"
                    ]
                }
            ],
            "source": [
                "import os\n",
                "import asyncio\n",
                "import io\n",
                "import pandas as pd\n",
                "from toolkit.AI.openai_configuration import OpenAIConfiguration\n",
                "from toolkit.AI.openai_embedder import OpenAIEmbedder\n",
                "from toolkit.helpers.constants import CACHE_PATH\n",
                "\n",
                "import toolkit.query_text_data.input_processor as input_processor\n",
                "import toolkit.query_text_data.relevance_assessor as relevance_assessor\n",
                "import toolkit.query_text_data.answer_builder as answer_builder\n",
                "import toolkit.query_text_data.graph_builder as graph_builder\n",
                "import toolkit.query_text_data.pattern_detector as pattern_detector\n",
                "import toolkit.graph.graph_fusion_encoder_embedding as gfee\n",
                "import toolkit.query_text_data.helper_functions as helper_functions\n",
                "import nest_asyncio # Necessary to run async code in ipynb\n",
                "\n",
                "nest_asyncio.apply()"
            ]
        },
        {
            "cell_type": "code",
            "execution_count": 3,
            "metadata": {},
            "outputs": [
                {
                    "name": "stderr",
                    "output_type": "stream",
                    "text": [
                        "[nltk_data] Downloading package brown to\n",
                        "[nltk_data]     C:\\Users\\daedge\\AppData\\Roaming\\nltk_data...\n",
                        "[nltk_data]   Package brown is already up-to-date!\n",
                        "[nltk_data] Downloading package punkt to\n",
                        "[nltk_data]     C:\\Users\\daedge\\AppData\\Roaming\\nltk_data...\n",
                        "[nltk_data]   Package punkt is already up-to-date!\n",
                        "[nltk_data] Downloading package punkt_tab to\n",
                        "[nltk_data]     C:\\Users\\daedge\\AppData\\Roaming\\nltk_data...\n",
                        "[nltk_data]   Package punkt_tab is already up-to-date!\n"
                    ]
                },
                {
                    "data": {
                        "text/plain": [
                            "<module 'toolkit.query_text_data.graph_builder' from 'c:\\\\Users\\\\daedge\\\\Code\\\\ITK\\\\intelligence-toolkit\\\\example_notebooks\\\\..\\\\toolkit\\\\query_text_data\\\\graph_builder.py'>"
                        ]
                    },
                    "execution_count": 3,
                    "metadata": {},
                    "output_type": "execute_result"
                }
            ],
            "source": [
                "# Comment/uncomment the following lines to toggle access to library code updates\n",
                "import importlib\n",
                "importlib.reload(input_processor)\n",
                "importlib.reload(pattern_detector)\n",
                "importlib.reload(helper_functions)\n",
                "importlib.reload(relevance_assessor)\n",
                "importlib.reload(answer_builder)\n",
                "importlib.reload(graph_builder)"
            ]
        },
        {
            "cell_type": "code",
            "execution_count": 4,
            "metadata": {},
            "outputs": [],
            "source": [
                "# Set up the AI model and embedding model\n",
                "ai_configuration = OpenAIConfiguration(\n",
                "    {\n",
                "        \"api_type\": \"OpenAI\",\n",
                "        \"api_key\": os.environ[\"OPENAI_API_KEY\"],\n",
                "        \"model\": \"gpt-4o-2024-08-06\",\n",
                "    }\n",
                ")\n",
                "\n",
                "text_embedder = OpenAIEmbedder(\n",
                "    configuration=ai_configuration,\n",
                ")"
            ]
        },
        {
            "cell_type": "code",
            "execution_count": 5,
            "metadata": {},
            "outputs": [
                {
                    "name": "stdout",
                    "output_type": "stream",
                    "text": [
                        "Chunked input text\n"
                    ]
                }
            ],
            "source": [
                "# Provide text inputs as rows of a dataframe\n",
                "input_path = \"../example_outputs/query_text_data/news_articles/news_articles_texts.csv\"\n",
                "file_name = input_path.split(\"/\")[-1]\n",
                "file_to_chunks = input_processor.process_file_bytes({file_name: open(input_path, 'rb').read()}, input_processor.PeriodOption.NONE)\n",
                "print(\"Chunked input text\")"
            ]
        },
        {
            "cell_type": "code",
            "execution_count": 6,
            "metadata": {},
            "outputs": [
                {
                    "name": "stdout",
                    "output_type": "stream",
                    "text": [
                        "Processed chunks\n"
                    ]
                }
            ],
            "source": [
                "max_cluster_size = 25 # The maximum number of concepts in a leaf-level community in the concept graph\n",
                "# Process the chunks into the index data structures\n",
                "(\n",
                "    cid_to_text,\n",
                "    text_to_cid,\n",
                "    period_concept_graphs,\n",
                "    community_to_concepts,\n",
                "    concept_to_community,\n",
                "    concept_to_cids,\n",
                "    cid_to_concepts,\n",
                "    previous_cid,\n",
                "    next_cid,\n",
                "    period_to_cids,\n",
                "    node_period_counts,\n",
                "    edge_period_counts,\n",
                "    hierarchical_communities\n",
                ") = input_processor.process_chunks(file_to_chunks=file_to_chunks, max_cluster_size=max_cluster_size)\n",
                "print(f\"Processed chunks\")"
            ]
        },
        {
            "cell_type": "code",
            "execution_count": 7,
            "metadata": {},
            "outputs": [
                {
                    "name": "stdout",
                    "output_type": "stream",
                    "text": [
                        "Got 501 existing texts\n",
                        "Got 0 new texts\n",
                        "Embedded chunk text\n"
                    ]
                }
            ],
            "source": [
                "# Embed the text chunks\n",
                "cid_to_vector = await helper_functions.embed_texts(\n",
                "    cid_to_text=cid_to_text,\n",
                "    text_embedder=text_embedder,\n",
                ")\n",
                "print(f\"Embedded chunk text\")"
            ]
        },
        {
            "cell_type": "code",
            "execution_count": 8,
            "metadata": {},
            "outputs": [
                {
                    "name": "stdout",
                    "output_type": "stream",
                    "text": [
                        "New loop after 0 tests\n",
                        "Assessing relevance for topic 108 with 5 chunks\n"
                    ]
                },
                {
                    "name": "stderr",
                    "output_type": "stream",
                    "text": [
                        "100%|██████████| 5/5 [00:01<00:00,  4.26it/s]\n"
                    ]
                },
                {
                    "name": "stdout",
                    "output_type": "stream",
                    "text": [
                        "Batch 1 of 1: 5 relevant chunks\n",
                        "Community 108: True\n",
                        "Assessing relevance for topic 106 with 5 chunks\n"
                    ]
                },
                {
                    "name": "stderr",
                    "output_type": "stream",
                    "text": [
                        "100%|██████████| 5/5 [00:01<00:00,  3.52it/s]\n"
                    ]
                },
                {
                    "name": "stdout",
                    "output_type": "stream",
                    "text": [
                        "Batch 1 of 1: 5 relevant chunks\n",
                        "Community 106: True\n",
                        "Assessing relevance for topic 97 with 5 chunks\n"
                    ]
                },
                {
                    "name": "stderr",
                    "output_type": "stream",
                    "text": [
                        "100%|██████████| 5/5 [00:00<00:00,  5.64it/s]\n"
                    ]
                },
                {
                    "name": "stdout",
                    "output_type": "stream",
                    "text": [
                        "Batch 1 of 1: 5 relevant chunks\n",
                        "Community 97: True\n",
                        "Assessing relevance for topic 54 with 5 chunks\n"
                    ]
                },
                {
                    "name": "stderr",
                    "output_type": "stream",
                    "text": [
                        "100%|██████████| 5/5 [00:00<00:00,  9.33it/s]\n"
                    ]
                },
                {
                    "name": "stdout",
                    "output_type": "stream",
                    "text": [
                        "Batch 1 of 1: 5 relevant chunks\n",
                        "Community 54: True\n",
                        "Assessing relevance for topic 56 with 4 chunks\n"
                    ]
                },
                {
                    "name": "stderr",
                    "output_type": "stream",
                    "text": [
                        "100%|██████████| 4/4 [00:01<00:00,  3.74it/s]\n"
                    ]
                },
                {
                    "name": "stdout",
                    "output_type": "stream",
                    "text": [
                        "Batch 1 of 1: 4 relevant chunks\n",
                        "Community 56: True\n",
                        "Assessing relevance for topic 105 with 5 chunks\n"
                    ]
                },
                {
                    "name": "stderr",
                    "output_type": "stream",
                    "text": [
                        "100%|██████████| 5/5 [00:00<00:00,  5.17it/s]\n"
                    ]
                },
                {
                    "name": "stdout",
                    "output_type": "stream",
                    "text": [
                        "Batch 1 of 1: 4 relevant chunks\n",
                        "Community 105: True\n",
                        "Assessing relevance for topic 103 with 5 chunks\n"
                    ]
                },
                {
                    "name": "stderr",
                    "output_type": "stream",
                    "text": [
                        "100%|██████████| 5/5 [00:00<00:00,  5.66it/s]\n"
                    ]
                },
                {
                    "name": "stdout",
                    "output_type": "stream",
                    "text": [
                        "Batch 1 of 1: 5 relevant chunks\n",
                        "Community 103: True\n",
                        "Assessing relevance for topic 102 with 5 chunks\n"
                    ]
                },
                {
                    "name": "stderr",
                    "output_type": "stream",
                    "text": [
                        "100%|██████████| 5/5 [00:01<00:00,  4.28it/s]\n"
                    ]
                },
                {
                    "name": "stdout",
                    "output_type": "stream",
                    "text": [
                        "Batch 1 of 1: 5 relevant chunks\n",
                        "Community 102: True\n",
                        "Assessing relevance for topic 53 with 5 chunks\n"
                    ]
                },
                {
                    "name": "stderr",
                    "output_type": "stream",
                    "text": [
                        "100%|██████████| 5/5 [00:00<00:00,  8.04it/s]\n"
                    ]
                },
                {
                    "name": "stdout",
                    "output_type": "stream",
                    "text": [
                        "Batch 1 of 1: 5 relevant chunks\n",
                        "Community 53: True\n",
                        "Assessing relevance for topic 156 with 5 chunks\n"
                    ]
                },
                {
                    "name": "stderr",
                    "output_type": "stream",
                    "text": [
                        "100%|██████████| 5/5 [00:00<00:00,  9.65it/s]\n"
                    ]
                },
                {
                    "name": "stdout",
                    "output_type": "stream",
                    "text": [
                        "Batch 1 of 1: 5 relevant chunks\n",
                        "Community 156: True\n",
                        "Assessing relevance for topic 57 with 5 chunks\n"
                    ]
                },
                {
                    "name": "stderr",
                    "output_type": "stream",
                    "text": [
                        "100%|██████████| 5/5 [00:01<00:00,  3.76it/s]\n"
                    ]
                },
                {
                    "name": "stdout",
                    "output_type": "stream",
                    "text": [
                        "Batch 1 of 1: 5 relevant chunks\n",
                        "Community 57: True\n",
                        "Assessing relevance for topic 51 with 5 chunks\n"
                    ]
                },
                {
                    "name": "stderr",
                    "output_type": "stream",
                    "text": [
                        "100%|██████████| 5/5 [00:00<00:00,  5.04it/s]\n"
                    ]
                },
                {
                    "name": "stdout",
                    "output_type": "stream",
                    "text": [
                        "Batch 1 of 1: 5 relevant chunks\n",
                        "Community 51: True\n",
                        "Assessing relevance for topic 122 with 5 chunks\n"
                    ]
                },
                {
                    "name": "stderr",
                    "output_type": "stream",
                    "text": [
                        "100%|██████████| 5/5 [00:01<00:00,  4.84it/s]\n"
                    ]
                },
                {
                    "name": "stdout",
                    "output_type": "stream",
                    "text": [
                        "Batch 1 of 1: 5 relevant chunks\n",
                        "Community 122: True\n",
                        "Assessing relevance for topic 104 with 3 chunks\n"
                    ]
                },
                {
                    "name": "stderr",
                    "output_type": "stream",
                    "text": [
                        "100%|██████████| 3/3 [00:00<00:00,  5.74it/s]\n"
                    ]
                },
                {
                    "name": "stdout",
                    "output_type": "stream",
                    "text": [
                        "Batch 1 of 1: 3 relevant chunks\n",
                        "Community 104: True\n",
                        "Assessing relevance for topic 107 with 5 chunks\n"
                    ]
                },
                {
                    "name": "stderr",
                    "output_type": "stream",
                    "text": [
                        "100%|██████████| 5/5 [00:03<00:00,  1.27it/s]\n"
                    ]
                },
                {
                    "name": "stdout",
                    "output_type": "stream",
                    "text": [
                        "Batch 1 of 1: 5 relevant chunks\n",
                        "Community 107: True\n",
                        "Assessing relevance for topic 96 with 5 chunks\n"
                    ]
                },
                {
                    "name": "stderr",
                    "output_type": "stream",
                    "text": [
                        "100%|██████████| 5/5 [00:01<00:00,  4.45it/s]\n"
                    ]
                },
                {
                    "name": "stdout",
                    "output_type": "stream",
                    "text": [
                        "Batch 1 of 1: 4 relevant chunks\n",
                        "Community 96: True\n",
                        "Assessing relevance for topic 4 with 5 chunks\n"
                    ]
                },
                {
                    "name": "stderr",
                    "output_type": "stream",
                    "text": [
                        "100%|██████████| 5/5 [00:00<00:00,  9.17it/s]\n"
                    ]
                },
                {
                    "name": "stdout",
                    "output_type": "stream",
                    "text": [
                        "Batch 1 of 1: 4 relevant chunks\n",
                        "Community 4: True\n",
                        "Assessing relevance for topic 46 with 5 chunks\n"
                    ]
                },
                {
                    "name": "stderr",
                    "output_type": "stream",
                    "text": [
                        "100%|██████████| 5/5 [00:00<00:00,  5.91it/s]\n"
                    ]
                },
                {
                    "name": "stdout",
                    "output_type": "stream",
                    "text": [
                        "Batch 1 of 1: 4 relevant chunks\n",
                        "Community 46: True\n",
                        "Assessing relevance for topic 110 with 5 chunks\n"
                    ]
                },
                {
                    "name": "stderr",
                    "output_type": "stream",
                    "text": [
                        "100%|██████████| 5/5 [00:01<00:00,  4.08it/s]\n"
                    ]
                },
                {
                    "name": "stdout",
                    "output_type": "stream",
                    "text": [
                        "Batch 1 of 1: 5 relevant chunks\n",
                        "Community 110: True\n",
                        "Assessing relevance for topic 150 with 5 chunks\n"
                    ]
                },
                {
                    "name": "stderr",
                    "output_type": "stream",
                    "text": [
                        "100%|██████████| 5/5 [00:00<00:00,  8.35it/s]\n"
                    ]
                },
                {
                    "name": "stdout",
                    "output_type": "stream",
                    "text": [
                        "Batch 1 of 1: 5 relevant chunks\n",
                        "Community 150: True\n",
                        "Assessing relevance for topic 158 with 1 chunks\n"
                    ]
                },
                {
                    "name": "stderr",
                    "output_type": "stream",
                    "text": [
                        "100%|██████████| 1/1 [00:00<00:00,  1.88it/s]\n"
                    ]
                },
                {
                    "name": "stdout",
                    "output_type": "stream",
                    "text": [
                        "Batch 1 of 1: 1 relevant chunks\n",
                        "Community 158: True\n",
                        "Assessing relevance for topic 38 with 5 chunks\n"
                    ]
                },
                {
                    "name": "stderr",
                    "output_type": "stream",
                    "text": [
                        "100%|██████████| 2/2 [00:00<00:00,  2.98it/s]\n"
                    ]
                },
                {
                    "name": "stdout",
                    "output_type": "stream",
                    "text": [
                        "Batch 1 of 1: 2 relevant chunks\n",
                        "Community 38: True\n",
                        "Assessing relevance for topic 98 with 4 chunks\n"
                    ]
                },
                {
                    "name": "stderr",
                    "output_type": "stream",
                    "text": [
                        "0it [00:00, ?it/s]\n"
                    ]
                },
                {
                    "name": "stdout",
                    "output_type": "stream",
                    "text": [
                        "Batch 1 of 1: 0 relevant chunks\n",
                        "Community 98: False\n",
                        "Assessing relevance for topic 63 with 5 chunks\n"
                    ]
                },
                {
                    "name": "stderr",
                    "output_type": "stream",
                    "text": [
                        "0it [00:00, ?it/s]\n"
                    ]
                },
                {
                    "name": "stdout",
                    "output_type": "stream",
                    "text": [
                        "Batch 1 of 1: 0 relevant chunks\n",
                        "Community 63: False\n",
                        "Assessing relevance for topic 157 with 2 chunks\n"
                    ]
                },
                {
                    "name": "stderr",
                    "output_type": "stream",
                    "text": [
                        "0it [00:00, ?it/s]"
                    ]
                },
                {
                    "name": "stdout",
                    "output_type": "stream",
                    "text": [
                        "Batch 1 of 1: 0 relevant chunks\n",
                        "Community 157: False\n",
                        "0 successive irrelevant communities; breaking\n",
                        "Assessing relevance for neighbours with 0 chunks\n",
                        "[('topic 158', 153, 'Yes'), ('topic 38', 341, 'Yes'), ('topic 38', 468, 'Yes')]\n",
                        "**Chunks relevant/tested: 96/100** (topic 108: 5/5; topic 106: 5/5; topic 97: 5/5; topic 54: 5/5; topic 56: 4/4; topic 105: 4/5; topic 103: 5/5; topic 102: 5/5; topic 53: 5/5; topic 156: 5/5; topic 57: 5/5; topic 51: 5/5; topic 122: 5/5; topic 104: 3/3; topic 107: 5/5; topic 96: 4/5; topic 4: 4/5; topic 46: 4/5; topic 110: 5/5; topic 150: 5/5; topic 158: 1/1; topic 38: 2/2)\n",
                        "Mined relevant chunks\n"
                    ]
                },
                {
                    "name": "stderr",
                    "output_type": "stream",
                    "text": [
                        "\n"
                    ]
                }
            ],
            "source": [
                "question = \"What events are discussed?\"\n",
                "relevance_test_budget = 100 # How many relevance tests are permitted per query. Higher values may provide higher quality results at higher cost\n",
                "adjacent_search_steps = 1 # How many chunks before and after each relevant chunk to test, once the relevance test budget is near or the search process has terminted\n",
                "community_relevance_tests = 5 # How many relevance tests to run on each community in turn\n",
                "relevance_test_batch_size = 5 # How many relevance tests to run in parallel at a time\n",
                "irrelevant_community_restart = 3 # When to restart testing communities in relevance order\n",
                "\n",
                "# Mine relevant chunks to the question\n",
                "async def mine_relevant_chunks():\n",
                "    (\n",
                "        relevant_cids,\n",
                "        chunk_progress,\n",
                "    ) = await relevance_assessor.detect_relevant_chunks(\n",
                "        ai_configuration=ai_configuration,\n",
                "        question=question,\n",
                "        cid_to_text=cid_to_text,\n",
                "        cid_to_concepts=cid_to_concepts,\n",
                "        cid_to_vector=cid_to_vector,\n",
                "        community_to_concepts=community_to_concepts,\n",
                "        concept_to_community=concept_to_community,\n",
                "        previous_cid=previous_cid,\n",
                "        next_cid=next_cid,\n",
                "        embedder=text_embedder,\n",
                "        embedding_cache=CACHE_PATH,\n",
                "        select_logit_bias=5,\n",
                "        adjacent_search_steps=adjacent_search_steps,\n",
                "        relevance_test_budget=relevance_test_budget,\n",
                "        community_relevance_tests=community_relevance_tests,\n",
                "        relevance_test_batch_size=relevance_test_batch_size,\n",
                "        irrelevant_community_restart=irrelevant_community_restart,\n",
                "    )\n",
                "    return relevant_cids, chunk_progress\n",
                "\n",
                "if __name__ == \"__main__\":\n",
                "    relevant_cids, chunk_progress = await mine_relevant_chunks()\n",
                "    print(f\"Mined relevant chunks\")\n",
                "    \n"
            ]
        },
        {
            "cell_type": "code",
            "execution_count": 9,
            "metadata": {},
            "outputs": [
                {
                    "name": "stdout",
                    "output_type": "stream",
                    "text": [
                        "Answered question\n"
                    ]
                }
            ],
            "source": [
                "answer_batch_size = 10 # How many chunks to integrate into the answer at a time\n",
                "# Generate an extended answer to the question, which could then be summarized\n",
                "(\n",
                "    partial_answers,\n",
                "    answer_progress,\n",
                ") = answer_builder.answer_question(\n",
                "    ai_configuration=ai_configuration,\n",
                "    question=question,\n",
                "    relevant_cids=relevant_cids,\n",
                "    cid_to_text=cid_to_text,\n",
                "    answer_batch_size=answer_batch_size,\n",
                ")\n",
                "print(f\"Answered question\")"
            ]
        },
        {
            "cell_type": "code",
            "execution_count": 10,
            "metadata": {},
            "outputs": [
                {
                    "name": "stdout",
                    "output_type": "stream",
                    "text": [
                        "**Chunks relevant/tested: 96/100** (topic 108: 5/5; topic 106: 5/5; topic 97: 5/5; topic 54: 5/5; topic 56: 4/4; topic 105: 4/5; topic 103: 5/5; topic 102: 5/5; topic 53: 5/5; topic 156: 5/5; topic 57: 5/5; topic 51: 5/5; topic 122: 5/5; topic 104: 3/3; topic 107: 5/5; topic 96: 4/5; topic 4: 4/5; topic 46: 4/5; topic 110: 5/5; topic 150: 5/5; topic 158: 1/1; topic 38: 2/2)\n",
                        "**Chunks referenced/relevant: 86/96** (answer 1: 8/10, answer 2: 8/10, answer 3: 10/10, answer 4: 10/10, answer 5: 10/10, answer 6: 10/10, answer 7: 9/10, answer 8: 8/10, answer 9: 8/10, answer 10: 5/6)\n"
                    ]
                }
            ],
            "source": [
                "# Output some process summarry information\n",
                "print(chunk_progress)\n",
                "print(answer_progress)"
            ]
        },
        {
            "cell_type": "code",
            "execution_count": 11,
            "metadata": {},
            "outputs": [
                {
                    "name": "stdout",
                    "output_type": "stream",
                    "text": [
                        "# Key Global Events and Discussions in 2023-2024\n",
                        "\n",
                        "*In response to: What events are discussed?*\n",
                        "\n",
                        "## Introduction\n",
                        "\n",
                        "This report provides an overview of significant global events and discussions that took place in 2023 and 2024, highlighting humanitarian efforts, economic forums, cultural festivals, climate action, and security challenges. The events are grouped thematically as follows:\n",
                        "\n",
                        "- **Humanitarian and Cultural Events**\n",
                        "  - Humanitarian Aid Efforts in Indonesia\n",
                        "  - Miami Spring Festival: A Cultural Extravaganza\n",
                        "  - Annual Community Fair Brings Neighbors Together\n",
                        "  - DJ Alex Headlines Berlin Music Festival with Electrifying Performance\n",
                        "  - Annual Music Festival Thrills Crowds at Sunset Park\n",
                        "  - Annual Charity Run Set to Take Place at Riverfront Park\n",
                        "  - Hope Fundraiser Gala Raises Millions for Charity\n",
                        "  - Beyoncé to Perform at Sydney Opera House\n",
                        "  - Zoe Lin Rocks the Stage at SXSW\n",
                        "  - Riverside Park Cleanup Drive: A Community Unites for the Environment\n",
                        "  - Annual Food Festival Returns to Riverfront Park\n",
                        "  - Annual Riverfront Festival Kicks Off with Parade\n",
                        "  - Literary Luminary David Lin Captivates Audience at City Library Event\n",
                        "  - Miami Hosts Iconic Music Festival: Ultra Music Festival Returns with Electrifying Lineup\n",
                        "  - Local Festival Celebrates Community Spirit in Springfield\n",
                        "  - Louvre Museum Unveils Dazzling Asian Art Exhibition Curated by Sophia Lin\n",
                        "  - International Film Festival: A Star-Studded Opening Night\n",
                        "  - Independent Spirit Shines at Film Festival\n",
                        "  - Harmony Music Festival Draws Record Crowds at Harmony Park\n",
                        "  - Spring Festival Celebrates Local Culture at Greenfield Park\n",
                        "  - Jazz Fest in New Orleans: A Musical Celebration\n",
                        "  - New Town Film Festival Celebrates Independent Cinema\n",
                        "\n",
                        "- **Economic and Trade Discussions**\n",
                        "  - Global Economic Forum on Future Trends\n",
                        "  - Trade Talks Between Islamabad and WTO\n",
                        "  - Strategies for Market Resilience Discussed at Economic Summit\n",
                        "  - Prime Minister Anna Lee Meets with European Union Leaders in London\n",
                        "  - China-Mexico Diplomatic Engagements: Leaders Discuss Economic Collaboration\n",
                        "  - Global Economic Forum to Address Market Volatility\n",
                        "  - Global Economic Forum: Key Takeaways\n",
                        "  - Diplomatic Talks in Geneva: A Path Forward\n",
                        "  - Leaders Discuss Cooperation at East Asia Summit\n",
                        "  - Carlos Jimenez Discusses Trade Policies at EU Summit in Brussels\n",
                        "  - Global Economic Trends Discussed at IMF Meeting\n",
                        "  - Portugal Hosts EU Summit on Trade Relations\n",
                        "  - Diplomatic Breakthrough: New Trade Agreement Forged at Embassy Row\n",
                        "  - Senator Brown Addresses Economic Challenges in Detroit\n",
                        "\n",
                        "- **Climate and Environmental Initiatives**\n",
                        "  - Berlin Hosts Global Climate Action Forum\n",
                        "  - World Climate Council's Call for Action\n",
                        "  - International Summit on Climate Change Concludes in Geneva\n",
                        "  - Global Leaders Convene for Critical Climate Discussions at United Nations Summit\n",
                        "  - Climate Summit in Sydney Addresses Global Challenges\n",
                        "  - New Environmental Bill Proposed in Senate\n",
                        "  - San Francisco Hosts Annual Green Earth Festival\n",
                        "  - Spring Festival at Botanical Gardens: A Celebration of Nature\n",
                        "  - World Climate Conference Highlights Urgent Environmental Issues\n",
                        "  - Governor Rachel Adams Unveils Bold New Environmental Policy at State House\n",
                        "  - International Summit on Climate Action Begins in Geneva\n",
                        "  - UN Climate Summit Highlights Urgent Global Actions\n",
                        "  - Local Biologist Leads Environmental Effort at River Park\n",
                        "  - Global Climate Forum Convenes in Sydney to Tackle Climate Change\n",
                        "\n",
                        "- **Leadership and Policy Developments**\n",
                        "  - Eva Schultz Elected as Head of Global Policy Institute\n",
                        "  - UN Assembly Debates Global Security Challenges\n",
                        "  - Upcoming Debate Between Ng and Lee Announced\n",
                        "  - New Initiatives Announced at UN Conference in Geneva\n",
                        "  - James Carter Addresses Global Leadership Forum in London\n",
                        "  - UN Conference on Human Rights Begins in Cairo\n",
                        "  - Governor Lee Responds to Senator Ng's Candidacy\n",
                        "  - Governor Harris Proposes Ambitious Policy Reforms at State Capitol\n",
                        "  - Capital City Hosts Policy Debate on Education Reform\n",
                        "  - Peace Talks to Resume in Geneva with International Focus\n",
                        "  - Human Rights Conference Advocates for Change\n",
                        "  - Diplomatic Talks Advance Peace Efforts: Ambassador Linda Grey at the Helm\n",
                        "  - Ambassador Linda Carter Discusses Diplomatic Strategies at the International Relations Committee Meeting\n",
                        "\n",
                        "- **Health and Wellness Conferences**\n",
                        "  - Dr. Stevens Advocates for Mental Health Awareness at San Francisco Conference\n",
                        "  - Dr. Sarah Lee's Tips for a Healthier Lifestyle at the Wellness Expo\n",
                        "  - Dr. Laura Bennett on the Benefits of Mindfulness\n",
                        "  - New Health Trends: Dr. Kim's Insights\n",
                        "  - Wellness Retreat Center Hosts Event to Promote Healthy Living\n",
                        "  - Dr. Alan Smith Discusses New Health Trends at City Health Center\n",
                        "  - Health and Wellness Expo Comes to Chicago\n",
                        "  - Wellness Center Hosts Yoga and Meditation Retreat\n",
                        "  - WHO Hosts Global Health Conference in Geneva\n",
                        "\n",
                        "- **Cultural and Historical Exhibitions**\n",
                        "  - Boston Historical Society Hosts Revolutionary War Exhibit\n",
                        "  - Modern Art Museum Hosts Engaging Panel on Technology in Art\n",
                        "  - Austin Hosts Annual Tech Innovators Conference\n",
                        "  - Elena Petrova Unveils Groundbreaking Tech at Berlin Conference\n",
                        "  - Austin Hosts Annual Tech Startups Expo: A Showcase of Innovation\n",
                        "  - Chloe Reed Discusses Art with Curator Emily Jones at the Modern Art Museum\n",
                        "  - Innovators Gather in Tokyo for Technology Forum\n",
                        "  - Breakthroughs in AI Highlighted at Tech Innovators Conference\n",
                        "\n",
                        "- **Sports and Entertainment Highlights**\n",
                        "  - Historic Victory at Greenfield Stadium Marks a New Era in Football\n",
                        "  - National Football League Championship: Final Practices Underway\n",
                        "  - Chloe Nguyen Explores Southeast Asia's Hidden Gems\n",
                        "  - Riverside High School Hosts Annual Science Fair: A Celebration of Student Innovation\n",
                        "  - Education Fair Brings Resources to the Community\n",
                        "  - Olivia Grant's Film Premieres at LA Festival to Critical Acclaim\n",
                        "\n",
                        "- **Security and Defense**\n",
                        "  - Security Measures Strengthened Amid Rising Tensions\n",
                        "\n",
                        "- **Space Exploration**\n",
                        "  - NASA Prepares for Mars Mission Launch: A New Era in Space Exploration\n",
                        "\n",
                        "## Analysis\n",
                        "\n",
                        "### Humanitarian Aid Efforts in Indonesia\n",
                        "\n",
                        "In July 2023, Indonesia experienced significant seismic activity, prompting a surge in humanitarian aid efforts. Local and international organizations, including the Indonesian Red Cross and the Global Aid Society, mobilized to support affected communities in regions like Surabaya and Lombok. The collaboration focused on providing essential supplies, establishing temporary shelters, and offering psychological support. Despite ongoing aftershocks, the resilience of aid workers and the Indonesian government's logistical support have been crucial in these efforts [source: news_articles_texts.csv_122 (1)].\n",
                        "\n",
                        "### Miami Spring Festival: A Cultural Extravaganza\n",
                        "\n",
                        "The Miami Spring Festival, held in May 2023, celebrated the city's diverse cultural heritage through art, music, and food. Organized by the Miami Festival Committee, the event featured live performances, international cuisine, and interactive workshops. The festival aimed to educate and entertain, highlighting Miami's unique cultural blend and fostering community spirit [source: news_articles_texts.csv_278 (1)].\n",
                        "\n",
                        "### Annual Community Fair Brings Neighbors Together\n",
                        "\n",
                        "In February 2023, the Annual Community Fair was held at the Community Hall, organized by the City Council. Mayor Robert Lee opened the event, emphasizing the importance of community bonds. The fair featured local crafts, food vendors, games, and live performances, fostering a sense of unity and community pride [source: news_articles_texts.csv_370 (1)].\n",
                        "\n",
                        "### DJ Alex Headlines Berlin Music Festival with Electrifying Performance\n",
                        "\n",
                        "In September 2023, DJ Alex headlined the Berlin Electronic Music Festival, delivering a captivating performance that drew fans from around the world. The festival, a key event in the electronic music scene, showcased innovative sounds and highlighted Berlin's role as a hub for electronic music [source: news_articles_texts.csv_474 (1)].\n",
                        "\n",
                        "### Annual Music Festival Thrills Crowds at Sunset Park\n",
                        "\n",
                        "In October 2023, Sunset Park hosted the annual music festival organized by Music Fest Inc. The event featured diverse musical acts, with DJ Luna's performance being a standout. The festival celebrated community and creativity, drawing music lovers from various backgrounds [source: news_articles_texts.csv_446 (1)].\n",
                        "\n",
                        "### Annual Charity Run Set to Take Place at Riverfront Park\n",
                        "\n",
                        "Scheduled for January 15, 2024, the Annual Charity Run organized by the Helping Hands Foundation will take place at Riverfront Park. The event aims to promote health and raise funds for community projects, offering activities for all fitness levels [source: news_articles_texts.csv_78 (1)].\n",
                        "\n",
                        "### Hope Fundraiser Gala Raises Millions for Charity\n",
                        "\n",
                        "In March 2024, the Hope Fundraiser Gala at the City Convention Center successfully raised millions for charity. Hosted by philanthropist Linda Tran, the event brought together community leaders and celebrities to support various charitable initiatives [source: news_articles_texts.csv_197 (1)].\n",
                        "\n",
                        "### New Town Film Festival Celebrates Independent Cinema\n",
                        "\n",
                        "In November 2022, the New Town Film Festival celebrated independent cinema, featuring a diverse lineup of films that challenge conventional narratives. The festival provided a platform for emerging filmmakers and included screenings, panel discussions, and workshops [source: news_articles_texts.csv_28 (1)].\n",
                        "\n",
                        "### Zoe Lin Rocks the Stage at SXSW\n",
                        "\n",
                        "In July 2023, musician Zoe Lin delivered a captivating performance at the South by Southwest (SXSW) festival in Austin, Texas. Known for her unique sound that blends genres, Lin's performance was a highlight of the festival, showcasing her talent and solidifying her status as a rising star in the music world. Her set was marked by a strong connection with the audience, making it a significant milestone in her career [source: news_articles_texts.csv_316 (1)].\n",
                        "\n",
                        "### Riverside Park Cleanup Drive: A Community Unites for the Environment\n",
                        "\n",
                        "On October 12, 2023, Riverside Park became the focal point of a community cleanup drive led by environmental activist Laura Green. Organized by the Green Earth Initiative, the event brought together local residents to rejuvenate the park, emphasizing the importance of local action in tackling global environmental challenges. Volunteers collected litter and debris, enhancing the park's appearance and fostering community spirit [source: news_articles_texts.csv_298 (1)].\n",
                        "\n",
                        "### Annual Food Festival Returns to Riverfront Park\n",
                        "\n",
                        "On March 3, 2024, the Annual Food Festival returned to Riverfront Park, offering a day of culinary delights. Spearheaded by Chef Tom Wilson, the festival featured a variety of food stalls, live cooking demonstrations, and family-friendly activities, celebrating the city's vibrant food scene and community spirit [source: news_articles_texts.csv_231 (1)].\n",
                        "\n",
                        "### Annual Riverfront Festival Kicks Off with Parade\n",
                        "\n",
                        "On June 10, 2023, the Annual Riverfront Festival began with a grand parade at Riverfront Park, led by Mayor Linda Carter. The festival celebrated local culture with live music, artisanal food stalls, and interactive exhibits, highlighting the community's talents and traditions [source: news_articles_texts.csv_349 (1)].\n",
                        "\n",
                        "### Literary Luminary David Lin Captivates Audience at City Library Event\n",
                        "\n",
                        "On February 14, 2023, author David Lin engaged with readers at the City Library, sharing insights into his writing process and reading excerpts from his latest novel. The event, organized by the local Book Club, fostered a love for literature and community engagement [source: news_articles_texts.csv_380 (1)].\n",
                        "\n",
                        "### Miami Hosts Iconic Music Festival: Ultra Music Festival Returns with Electrifying Lineup\n",
                        "\n",
                        "In August 2023, Miami hosted the Ultra Music Festival, a hallmark event in the city's cultural calendar. Known for its pulsating rhythms and cutting-edge performances, the festival featured an exciting lineup of electronic music artists, with DJ Harmony headlining. The event drew thousands of attendees, showcasing Miami's vibrant nightlife and stunning coastal scenery [source: news_articles_texts.csv_134 (1)].\n",
                        "\n",
                        "### Local Festival Celebrates Community Spirit in Springfield\n",
                        "\n",
                        "On July 20, 2023, Springfield hosted its annual festival, celebrating local culture and community spirit. Organized by the Springfield Community Council, the event featured traditional music, dance shows, craft stalls, and local cuisine. The festival concluded with a spectacular fireworks display, highlighting Springfield's vibrant community spirit [source: news_articles_texts.csv_5 (1)].\n",
                        "\n",
                        "### Louvre Museum Unveils Dazzling Asian Art Exhibition Curated by Sophia Lin\n",
                        "\n",
                        "In July 2023, the Louvre Museum in Paris unveiled a new exhibition curated by art historian Sophia Lin, showcasing a remarkable collection of Asian art. The exhibition features artworks from China, Japan, Korea, and India, highlighting the diversity and depth of Asian artistic expression. The event drew art enthusiasts and cultural aficionados from around the globe, emphasizing the Louvre's commitment to cultural diversity and education [source: news_articles_texts.csv_8 (1)].\n",
                        "\n",
                        "### International Film Festival: A Star-Studded Opening Night\n",
                        "\n",
                        "The International Film Festival commenced with a star-studded opening night, featuring the premiere of a new film by Director Nina Patel. Known for her unique storytelling, Patel's film captivated audiences, setting the tone for the festival. The event celebrated the art of filmmaking and provided a platform for cultural exchange [source: news_articles_texts.csv_296 (1)].\n",
                        "\n",
                        "### Independent Spirit Shines at Film Festival\n",
                        "\n",
                        "In June 2023, the Film Society hosted its annual Film Festival, celebrating independent cinema. Director Maya Lin's latest work was a highlight, showcasing the creativity and dedication of independent filmmakers. The festival served as a platform for emerging talents and emphasized the importance of cultural events in enriching the community [source: news_articles_texts.csv_374 (1)].\n",
                        "\n",
                        "### Harmony Music Festival Draws Record Crowds at Harmony Park\n",
                        "\n",
                        "In November 2022, Harmony Park was the epicenter of musical celebration as it hosted the Harmony Music Festival. Organized by the Harmony Music Collective, the festival saw record crowds enjoying performances by top artists and local talent. DJ Alex Groove's set was a highlight, showcasing his pulsating beats and infectious energy. The festival celebrated diversity and creativity, with music, food, and art contributing to the vibrant atmosphere [source: news_articles_texts.csv_33 (1)].\n",
                        "\n",
                        "### Spring Festival Celebrates Local Culture at Greenfield Park\n",
                        "\n",
                        "In April 2023, Greenfield Park hosted the annual Spring Festival, a vibrant celebration of community spirit and cultural pride. Organized by the Festival Committee, the event featured an artisan market, traditional food stalls, and live performances of music and dance. The festival provided an opportunity for community members to connect and celebrate their shared heritage, fostering a sense of unity and belonging [source: news_articles_texts.csv_458 (1)].\n",
                        "\n",
                        "### Jazz Fest in New Orleans: A Musical Celebration\n",
                        "\n",
                        "In August 2023, New Orleans hosted its annual Jazz Fest, a grand celebration of the city's rich musical heritage. The festival, organized by the Jazz Heritage Foundation, featured a diverse lineup of local and international artists, showcasing traditional jazz, blues, R&B, and modern fusion styles. The event paid tribute to legendary musicians like Louis Armstrong and Fats Domino, highlighting New Orleans' profound impact on the music industry. The festival was a testament to the city's vibrant culture and its role as the birthplace of jazz [source: news_articles_texts.csv_275 (1)].\n",
                        "\n",
                        "### Global Economic Forum on Future Trends\n",
                        "\n",
                        "In March 2024, the Global Economic Forum convened in the Financial District to discuss future economic trends and challenges. Economist Linda Zhao and other leaders emphasized the need for sustainable economic policies and adaptation to technological advancements. The forum addressed issues like climate change impacts and digital currencies, underscoring the importance of collaboration in fostering economic growth [source: news_articles_texts.csv_179 (1)].\n",
                        "\n",
                        "### Trade Talks Between Islamabad and WTO\n",
                        "\n",
                        "In July 2023, Islamabad hosted successful trade negotiations with the World Trade Organization (WTO), resulting in agreements to enhance Pakistan's global trade relations. Prime Minister Anwar Khan's leadership was pivotal in these discussions, which aimed to reduce tariffs and improve market access for Pakistani goods. The talks highlighted the importance of international cooperation in economic development [source: news_articles_texts.csv_13 (1)].\n",
                        "\n",
                        "### Strategies for Market Resilience Discussed at Economic Summit\n",
                        "\n",
                        "In January 2024, the International Economic Summit, organized by the World Economic Council, focused on enhancing market resilience amidst economic uncertainties. Economist Robert Liu presented strategies such as diversifying economic activities and strengthening financial regulations to build robust economies [source: news_articles_texts.csv_183 (1)].\n",
                        "\n",
                        "### Prime Minister Anna Lee Meets with European Union Leaders in London\n",
                        "\n",
                        "In May 2023, Prime Minister Anna Lee met with European Union leaders in London to discuss trade and security issues. The talks aimed to strengthen international relations and explore potential trade agreements and collaborative security efforts [source: news_articles_texts.csv_313 (1)].\n",
                        "\n",
                        "### China-Mexico Diplomatic Engagements: Leaders Discuss Economic Collaboration\n",
                        "\n",
                        "In April 2023, Presidents Lin Wei of China and Sofia Alvarez of Mexico met in Beijing to discuss economic collaboration. The meeting, held during the Asian Economic Forum, focused on strengthening trade ties and mutual investments, highlighting the importance of international economic cooperation [source: news_articles_texts.csv_384 (1)].\n",
                        "\n",
                        "### Global Economic Forum to Address Market Volatility\n",
                        "\n",
                        "In December 2023, the Global Economic Forum will address the pressing issue of market volatility. Esteemed Economist Robert Liu is set to deliver a pivotal speech, providing insights and strategies to stabilize current market conditions. The forum is closely monitored by the International Monetary Fund (IMF) and is expected to offer actionable insights for a more resilient global economic landscape [source: news_articles_texts.csv_77 (1)].\n",
                        "\n",
                        "### Global Economic Forum: Key Takeaways\n",
                        "\n",
                        "In July 2021, the Global Economic Forum in New York concluded with discussions on post-pandemic recovery strategies, digital currencies, and international cooperation. Economist Sarah Lin highlighted the need for sustainable growth and resilience in economic policymaking [source: news_articles_texts.csv_105 (1)].\n",
                        "\n",
                        "### Diplomatic Talks in Geneva: A Path Forward\n",
                        "\n",
                        "In July 2023, diplomatic talks in Geneva marked a significant step forward in international relations. Key diplomats, including Ambassador Kevin Wright, emphasized cooperation and dialogue in addressing global challenges. The talks addressed issues such as climate change and economic cooperation, setting a precedent for future diplomatic engagements [source: news_articles_texts.csv_280 (1)].\n",
                        "\n",
                        "### Carlos Jimenez Discusses Trade Policies at EU Summit in Brussels\n",
                        "\n",
                        "In January 2024, Carlos Jimenez addressed key trade policy issues at the European Union Summit in Brussels. His speech emphasized the need for adapting trade policies to the evolving economic landscape and enhancing supply chain resilience. The summit aimed to foster dialogue and cooperation among member states [source: news_articles_texts.csv_338 (1)].\n",
                        "\n",
                        "### Global Economic Trends Discussed at IMF Meeting\n",
                        "\n",
                        "In July 2023, leading economists gathered at the Global Conference Center for an IMF meeting to discuss pressing global economic trends. Economist Sarah Lee highlighted the importance of understanding macroeconomic indicators and their impact on international markets. The meeting served as a platform for exchanging ideas and proposing solutions to enhance economic stability and growth, emphasizing the interconnectedness of global economies [source: news_articles_texts.csv_450 (1)].\n",
                        "\n",
                        "### Portugal Hosts EU Summit on Trade Relations\n",
                        "\n",
                        "In August 2023, Lisbon hosted a significant EU summit on trade relations, led by President Carlos Mendes. The summit focused on strengthening trade partnerships among EU member states amidst evolving global economic challenges. Discussions covered enhancing internal market policies, reducing trade barriers, and promoting sustainable economic practices. The summit underscored the importance of European unity and collaboration in fostering economic growth and stability [source: news_articles_texts.csv_153 (1)].\n",
                        "\n",
                        "### Diplomatic Breakthrough: New Trade Agreement Forged at Embassy Row\n",
                        "\n",
                        "In April 2023, a new trade agreement was successfully negotiated at Embassy Row, led by Ambassador Carlos Reyes. This agreement aims to enhance economic cooperation by streamlining trade processes and removing barriers, marking a positive turn in international relations [source: news_articles_texts.csv_373 (1)].\n",
                        "\n",
                        "### Senator Brown Addresses Economic Challenges in Detroit\n",
                        "\n",
                        "In September 2023, Senator Mark Brown addressed economic challenges in Detroit at a meeting of the Economic Council. He emphasized the need for investment in education, support for small businesses, and infrastructure improvements to revitalize the city's economy [source: news_articles_texts.csv_476 (1)].\n",
                        "\n",
                        "### Berlin Hosts Global Climate Action Forum\n",
                        "\n",
                        "In March 2023, Berlin hosted the Global Climate Action Forum, organized by the Green Earth Initiative. The event brought together leaders and activists to strategize on climate change solutions, focusing on renewable energy and carbon footprint reduction. The forum aimed to foster partnerships and commitments for significant progress in global climate policies [source: news_articles_texts.csv_214 (1)].\n",
                        "\n",
                        "### World Climate Council's Call for Action\n",
                        "\n",
                        "In January 2023, the World Climate Council convened in Global Summit City, urging immediate action against climate change. Activist Ryan Green's speech emphasized the need for global cooperation and robust policies to reduce carbon emissions. The council called for accelerated efforts in renewable energy investment to prevent irreversible environmental damage [source: news_articles_texts.csv_113 (1)].\n",
                        "\n",
                        "### International Summit on Climate Change Concludes in Geneva\n",
                        "\n",
                        "In July 2023, the United Nations' International Summit on Climate Change concluded in Geneva. The summit focused on implementing stringent climate policies and fostering international cooperation to combat climate change. Dr. Emily Nguyen and other leaders emphasized the urgency of collective action [source: news_articles_texts.csv_365 (1)].\n",
                        "\n",
                        "### Global Leaders Convene for Critical Climate Discussions at United Nations Summit\n",
                        "\n",
                        "In June 2023, world leaders gathered at the United Nations Summit to address climate change. The summit aimed to devise actionable strategies for global implementation, emphasizing international cooperation to tackle environmental crises [source: news_articles_texts.csv_345 (1)].\n",
                        "\n",
                        "### Climate Summit in Sydney Addresses Global Challenges\n",
                        "\n",
                        "In June 2023, the Climate Summit in Sydney brought together key figures and organizations to tackle pressing environmental challenges. Led by Dr. Leo White, the summit focused on sustainable solutions and international cooperation to combat climate change. The event highlighted the importance of bridging the gap between developed and developing nations in environmental efforts [source: news_articles_texts.csv_315 (1)].\n",
                        "\n",
                        "### New Environmental Bill Proposed in Senate\n",
                        "\n",
                        "In August 2023, Senator Maria Costa introduced a new environmental bill in the U.S. Senate aimed at strengthening environmental regulations and enhancing protections for natural resources. The bill proposes increased funding for the Environmental Protection Agency (EPA) and new measures to reduce carbon emissions. It is seen as a crucial step towards addressing climate change and safeguarding public health [source: news_articles_texts.csv_19 (1)].\n",
                        "\n",
                        "### San Francisco Hosts Annual Green Earth Festival\n",
                        "\n",
                        "In October 2021, San Francisco hosted the annual Green Earth Festival, a celebration of eco-friendly practices and green living. Organized by the Green Earth Initiative, the festival featured workshops, demonstrations, and interactive exhibits focused on sustainability. The event underscored the city's commitment to environmental stewardship and inspired participants to contribute to a greener future [source: news_articles_texts.csv_48 (1)].\n",
                        "\n",
                        "### Spring Festival at Botanical Gardens: A Celebration of Nature\n",
                        "\n",
                        "On April 5, 2024, the Botanical Gardens hosted the Spring Festival, organized by the Green Thumb Society. The event featured workshops by Gardener Lily Bloom, guided tours, and interactive exhibits, promoting gardening and environmental stewardship [source: news_articles_texts.csv_180 (1)].\n",
                        "\n",
                        "### World Climate Conference Highlights Urgent Environmental Issues\n",
                        "\n",
                        "In February 2024, the World Climate Conference addressed pressing environmental challenges. Environmental Scientist Lisa Chen emphasized the need for immediate action to tackle global warming, deforestation, and pollution. The conference aimed to inspire actionable solutions to combat environmental degradation [source: news_articles_texts.csv_190 (1)].\n",
                        "\n",
                        "### Governor Rachel Adams Unveils Bold New Environmental Policy at State House\n",
                        "\n",
                        "Governor Rachel Adams announced a comprehensive environmental policy aimed at reducing emissions and promoting sustainable practices. The policy includes measures such as increasing renewable energy use and enhancing energy efficiency. It reflects a commitment to environmental stewardship and has been met with applause from environmental groups [source: news_articles_texts.csv_300 (1)].\n",
                        "\n",
                        "### International Summit on Climate Action Begins in Geneva\n",
                        "\n",
                        "In March 2023, the International Summit on Climate Action began in Geneva, hosted by the Green Future Coalition. The summit brought together world leaders and environmental experts to discuss strategies for combating climate change. The event aimed to forge a unified path forward in addressing pressing environmental issues [source: news_articles_texts.csv_485 (1)].\n",
                        "\n",
                        "### UN Climate Summit Highlights Urgent Global Actions\n",
                        "\n",
                        "In September 2023, the UN Climate Summit in Geneva addressed the escalating climate crisis. Dr. Susan Green emphasized the need for immediate strategies to reduce carbon emissions. The summit focused on enhancing renewable energy adoption, preserving biodiversity, and supporting vulnerable communities. It served as a call to action for nations to commit to ambitious targets in reducing greenhouse gas emissions [source: news_articles_texts.csv_465 (1)].\n",
                        "\n",
                        "### Local Biologist Leads Environmental Effort at River Park\n",
                        "\n",
                        "In February 2023, Dr. Emily Waters led a community clean-up at River Park, organized by the Local Green Initiative. Volunteers collected litter and removed invasive species, fostering a sense of responsibility and connection to nature. The event highlighted the importance of maintaining clean natural spaces for wildlife and community enjoyment [source: news_articles_texts.csv_114 (1)].\n",
                        "\n",
                        "### Global Climate Forum Convenes in Sydney to Tackle Climate Change\n",
                        "\n",
                        "In March 2022, Sydney hosted the Global Climate Forum, gathering leading environmental scientists and policymakers to address climate change challenges. The forum, organized by the Global Climate Forum, focused on carbon reduction strategies, renewable energy advancements, and the socio-economic impacts of climate policies. The event aimed to inspire innovative solutions and encourage global cooperation to mitigate climate change effects [source: news_articles_texts.csv_51 (1)].\n",
                        "\n",
                        "### Eva Schultz Elected as Head of Global Policy Institute\n",
                        "\n",
                        "In August 2021, Eva Schultz was elected as the head of the Global Policy Institute in Berlin, marking a new era in international policy-making. Schultz's leadership is expected to drive reforms addressing global challenges like climate change and economic inequality. Her election has been widely acclaimed, promising a transformative impact on global policy [source: news_articles_texts.csv_46 (1)].\n",
                        "\n",
                        "### UN Assembly Debates Global Security Challenges\n",
                        "\n",
                        "In October 2023, the UN Assembly in New York focused on global security challenges, led by Ambassador Linda Chen. The discussions covered cyber security, nuclear proliferation, and terrorism, emphasizing the need for collective action. Ambassador Chen's leadership was pivotal in steering the assembly towards actionable outcomes, highlighting the importance of international cooperation [source: news_articles_texts.csv_413 (1)].\n",
                        "\n",
                        "### Upcoming Debate Between Ng and Lee Announced\n",
                        "\n",
                        "A highly anticipated debate between gubernatorial candidates Senator Linda Ng and Governor Michael Lee is set to take place in Capitol City. Organized by the National Debate Council, this event will provide voters with insights into the candidates' platforms and policy proposals, drawing significant public and media attention [source: news_articles_texts.csv_63 (1)].\n",
                        "\n",
                        "### Harmony Music Festival Draws Record Crowds at Harmony Park\n",
                        "\n",
                        "In November 2022, Harmony Park was the epicenter of musical celebration as it hosted the Harmony Music Festival. Organized by the Harmony Music Collective, the festival saw record crowds enjoying performances by top artists and local talent. DJ Alex Groove's set was a highlight, showcasing his pulsating beats and infectious energy. The festival celebrated diversity and creativity, with music, food, and art contributing to the vibrant atmosphere [source: news_articles_texts.csv_33 (1)].\n",
                        "\n",
                        "### James Carter Addresses Global Leadership Forum in London\n",
                        "\n",
                        "In April 2023, political analyst James Carter addressed the Global Leadership Forum in London, discussing emerging global trends in international politics. His speech highlighted the increasing role of technology in governance, shifting alliances, and the importance of sustainable development. Carter's insights are expected to influence discussions on global policy-making [source: news_articles_texts.csv_325 (1)].\n",
                        "\n",
                        "### UN Conference on Human Rights Begins in Cairo\n",
                        "\n",
                        "In October 2022, a United Nations conference on human rights began in Cairo, focusing on advancing human rights protections worldwide. The conference brought together delegates from various countries to discuss issues such as freedom of expression and the rights of marginalized communities. It aims to foster international cooperation and produce actionable recommendations [source: news_articles_texts.csv_57 (1)].\n",
                        "\n",
                        "### Governor Lee Responds to Senator Ng's Candidacy\n",
                        "\n",
                        "On January 18, 2023, Governor Michael Lee addressed Senator Linda Ng's candidacy for the gubernatorial race, expressing readiness for debates on healthcare and education. The election promises to be a closely watched contest, highlighting differing visions for the state's future [source: news_articles_texts.csv_61 (1)].\n",
                        "\n",
                        "### Governor Harris Proposes Ambitious Policy Reforms at State Capitol\n",
                        "\n",
                        "In March 2024, Governor Tom Harris unveiled new policy reforms aimed at stimulating economic growth and fostering innovation. The reforms include tax incentives for startups and investments in technology infrastructure, emphasizing collaboration between the public and private sectors [source: news_articles_texts.csv_199 (1)].\n",
                        "\n",
                        "### Olivia Grant's Film Premieres at LA Festival to Critical Acclaim\n",
                        "\n",
                        "In July 2022, Olivia Grant's film premiered at the Los Angeles Film Festival, receiving critical acclaim for its innovative storytelling and compelling performances. The festival, organized by the Cinematic Arts Institute, provided a platform for Grant's work to shine, highlighting her prowess in filmmaking [source: news_articles_texts.csv_55 (1)].\n",
                        "\n",
                        "### Riverside High School Hosts Annual Science Fair: A Celebration of Student Innovation\n",
                        "\n",
                        "In February 2024, Riverside High School held its annual science fair, showcasing student projects in science and technology. The event provided a platform for young innovators to present their work, fostering a strong science education and inspiring future scientists [source: news_articles_texts.csv_191 (1)].\n",
                        "\n",
                        "### Education Fair Brings Resources to the Community\n",
                        "\n",
                        "In May 2023, the City Library hosted an Education Fair as part of the 'Education for All Initiative.' The event aimed to bridge educational gaps by providing resources and workshops for personal and professional development, emphasizing the importance of educational equity [source: news_articles_texts.csv_440 (1)].\n",
                        "\n",
                        "### Riverside High School Hosts Annual Science Fair: A Celebration of Student Innovation\n",
                        "\n",
                        "In February 2024, Riverside High School held its annual science fair, showcasing student projects in science and technology. The event provided a platform for young innovators to present their work, fostering a strong science education and inspiring future scientists [source: news_articles_texts.csv_191 (1)].\n",
                        "\n",
                        "### Innovators Gather in Tokyo for Technology Forum\n",
                        "\n",
                        "In September 2023, Tokyo hosted the Tech Innovators Forum, bringing together experts in technology and innovation. The event featured discussions on emerging trends and the societal impact of new technologies. The forum provided a platform for sharing ideas and forging partnerships, highlighting the role of global collaboration in driving technological progress [source: news_articles_texts.csv_471 (1)].\n",
                        "\n",
                        "### Breakthroughs in AI Highlighted at Tech Innovators Conference\n",
                        "\n",
                        "In March 2023, the Tech Innovators Conference in Tokyo showcased advancements in AI technology. Elena Garcia's presentation on AI's practical applications in sectors like healthcare was a highlight. The conference emphasized the importance of responsible AI development and its potential to enhance efficiency and productivity across industries [source: news_articles_texts.csv_91 (1)].\n",
                        "\n",
                        "### Historic Victory at Greenfield Stadium Marks a New Era in Football\n",
                        "\n",
                        "In February 2023, Greenfield Stadium hosted a historic football championship game, marking a new era in the sport. Under Coach Tom Riley's leadership, the team delivered a remarkable performance, celebrated as a defining moment in football history. The victory set a new standard for excellence in the sport [source: news_articles_texts.csv_166 (1)].\n",
                        "\n",
                        "### National Football League Championship: Final Practices Underway\n",
                        "\n",
                        "In January 2024, Coach Alex Turner led final practices for the National Football League Championship at the City Training Ground. The team prepared meticulously for the upcoming game, with a focus on teamwork and precision [source: news_articles_texts.csv_223 (1)].\n",
                        "\n",
                        "### Chloe Nguyen Explores Southeast Asia's Hidden Gems\n",
                        "\n",
                        "In December 2023, travel expert Chloe Nguyen shared insights from her journey through Southeast Asia at the Global Travel Association's annual meeting. Her presentation highlighted lesser-known locales, emphasizing sustainable travel practices and the importance of preserving cultural and natural heritage [source: news_articles_texts.csv_336 (1)].\n",
                        "\n",
                        "### Boston Historical Society Hosts Revolutionary War Exhibit\n",
                        "\n",
                        "The Boston Historical Society hosted an exhibit on the Revolutionary War, offering insights into this pivotal period in American history. The exhibit featured artifacts and interactive displays, engaging visitors in the historical narrative [source: news_articles_texts.csv_323 (1)].\n",
                        "\n",
                        "### Austin Hosts Annual Tech Innovators Conference\n",
                        "\n",
                        "In September 2022, Austin hosted the Tech Innovators Conference, a key event for industry leaders and tech enthusiasts. The conference featured discussions on emerging technologies and fostered collaboration among participants [source: news_articles_texts.csv_56 (1)].\n",
                        "\n",
                        "### Elena Petrova Unveils Groundbreaking Tech at Berlin Conference\n",
                        "\n",
                        "In November 2023, Elena Petrova presented her latest technological advancements at the Tech Innovators Conference in Berlin. Her innovations promise to reshape industries such as healthcare and telecommunications. The presentation was met with enthusiasm, highlighting Berlin's status as a hub for technological innovation [source: news_articles_texts.csv_334 (1)].\n",
                        "\n",
                        "### Austin Hosts Annual Tech Startups Expo: A Showcase of Innovation\n",
                        "\n",
                        "On September 17, 2023, Austin hosted the Annual Tech Startups Expo, featuring innovations in technology. Keynote speaker Samir Patel introduced groundbreaking technologies, emphasizing collaboration and networking among startups [source: news_articles_texts.csv_478 (1)].\n",
                        "\n",
                        "### Chloe Reed Discusses Art with Curator Emily Jones at the Modern Art Museum\n",
                        "\n",
                        "In May 2023, the Modern Art Museum hosted a discussion between Artist Chloe Reed and Curator Emily Jones. The event explored contemporary art's evolution and its impact on culture, highlighting the importance of innovation and the role of artists in challenging societal norms [source: news_articles_texts.csv_342 (1)].\n",
                        "\n",
                        "### Olivia Grant's Film Premieres at LA Festival to Critical Acclaim\n",
                        "\n",
                        "In July 2022, Olivia Grant's film premiered at the Los Angeles Film Festival, receiving critical acclaim for its innovative storytelling and compelling performances. The festival, organized by the Cinematic Arts Institute, provided a platform for Grant's work to shine, highlighting her prowess in filmmaking [source: news_articles_texts.csv_55 (1)].\n",
                        "\n",
                        "### Human Rights Conference Advocates for Change\n",
                        "\n",
                        "In July 2023, the Human Rights Conference at Human Rights Plaza, organized by Global Rights Watch, brought together advocates and policymakers to address pressing human rights issues. Activist Nadia Ali delivered a keynote speech emphasizing the need for decisive action to ensure justice and equality. The conference highlighted issues such as freedom of expression, gender equality, and the rights of refugees, fostering dialogue and collaboration for global human rights advocacy [source: news_articles_texts.csv_377 (1)].\n",
                        "\n",
                        "### Diplomatic Talks Advance Peace Efforts: Ambassador Linda Grey at the Helm\n",
                        "\n",
                        "In January 2023, Ambassador Linda Grey led a crucial diplomatic meeting at Embassy Hall, organized by the Diplomatic Corps, to foster peace in a tumultuous region. The talks aimed to address longstanding issues hindering progress and peace, emphasizing collaboration and mutual respect. Ambassador Grey's efforts have garnered international attention, with hopes for tangible results in stabilizing the region [source: news_articles_texts.csv_456 (1)].\n",
                        "\n",
                        "### Ambassador Linda Carter Discusses Diplomatic Strategies at the International Relations Committee Meeting\n",
                        "\n",
                        "In June 2023, Ambassador Linda Carter addressed the International Relations Committee, outlining modern diplomatic strategies to enhance global efforts. Her presentation emphasized multilateral cooperation and strategic dialogue to tackle global challenges like climate change and geopolitical tensions. Carter's insights were praised for their clarity and foresight, influencing diplomatic efforts worldwide [source: news_articles_texts.csv_120 (1)].\n",
                        "\n",
                        "### Wellness Center Hosts Yoga and Meditation Retreat\n",
                        "\n",
                        "In October 2023, the Wellness Center organized a yoga and meditation retreat as part of the Wellness Initiative, led by Yoga Instructor Nina Patel. The event aimed to promote mental and physical well-being through mindfulness and physical activity. Participants appreciated the opportunity to focus on their health in a serene setting, marking another successful event under the Wellness Initiative [source: news_articles_texts.csv_459 (1)].\n",
                        "\n",
                        "### WHO Hosts Global Health Conference in Geneva\n",
                        "\n",
                        "In November 2023, the World Health Organization (WHO) hosted its annual health conference in Geneva, drawing global health experts and policymakers to address pressing health challenges. Dr. Sarah Jensen, a prominent public health figure, shared insights on emerging health trends and technological advancements in healthcare. The conference focused on communicable diseases, AI integration in healthcare, and socio-economic health factors, aiming to foster resilient health systems [source: news_articles_texts.csv_156 (1)].\n",
                        "\n",
                        "### Security Measures Strengthened Amid Rising Tensions\n",
                        "\n",
                        "In November 2023, the National Defense Office announced new security measures at a key military base in response to escalating global tensions. General Robert Black outlined the need for heightened vigilance to safeguard military assets. The measures include increased surveillance and access controls, reflecting a broader trend of nations reinforcing security in light of rising tensions [source: news_articles_texts.csv_457 (1)].\n",
                        "\n",
                        "### NASA Prepares for Mars Mission Launch: A New Era in Space Exploration\n",
                        "\n",
                        "In September 2023, NASA prepared for a groundbreaking mission to Mars, led by Dr. Carla Ruiz. This mission aims to deepen our understanding of Mars and set the stage for future manned missions. The mission will carry advanced scientific instruments to study the Martian surface and atmosphere, marking a significant leap in space exploration [source: news_articles_texts.csv_477 (1)].\n",
                        "\n",
                        "## Conclusion\n",
                        "\n",
                        "The events discussed in this report highlight the interconnectedness of global challenges and the importance of international cooperation. From humanitarian aid in Indonesia to economic and climate forums, these gatherings underscore the need for collaborative efforts in addressing pressing global issues. Cultural and community events, such as the Riverside Park Cleanup Drive and the Annual Food Festival, celebrate diversity and foster unity. Leadership and policy developments, including Governor Lee's response to Senator Ng's candidacy and the Global Economic Forum's key takeaways, illustrate ongoing efforts to navigate complex international landscapes. Health and wellness conferences emphasize the growing focus on mental and physical well-being, with the WHO's conference in Geneva addressing global health challenges. Security measures have been strengthened amid rising tensions, reflecting global concerns. NASA's Mars mission preparation marks a new era in space exploration, inspiring future generations. These events collectively emphasize the critical role of dialogue and partnership in shaping a sustainable and secure future.\n",
                        "\n",
                        "\n"
                    ]
                }
            ],
            "source": [
                "# Output the final extended answer\n",
                "final_answer = partial_answers[-1]\n",
                "print(final_answer)"
            ]
        }
    ],
    "metadata": {
        "kernelspec": {
            "display_name": ".venv",
            "language": "python",
            "name": "python3"
        },
        "language_info": {
            "codemirror_mode": {
                "name": "ipython",
                "version": 3
            },
            "file_extension": ".py",
            "mimetype": "text/x-python",
            "name": "python",
            "nbconvert_exporter": "python",
            "pygments_lexer": "ipython3",
            "version": "3.11.9"
        }
    },
    "nbformat": 4,
    "nbformat_minor": 2
}
